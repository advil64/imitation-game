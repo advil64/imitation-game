{
 "cells": [
  {
   "cell_type": "code",
   "execution_count": 1,
   "source": [
    "import pandas as pd\n",
    "import os\n",
    "import json"
   ],
   "outputs": [],
   "metadata": {}
  },
  {
   "cell_type": "code",
   "execution_count": null,
   "source": [
    "success_df = pd.DataFrame(columns = ['Agent', 'Trajectory', 'Time'])"
   ],
   "outputs": [],
   "metadata": {}
  },
  {
   "cell_type": "code",
   "execution_count": 9,
   "source": [
    "directory = '/common/users/ac1771/imitation-game/results/agent_3/'\n",
    "\n",
    "# iterate through all result json files\n",
    "for file_name in os.listdir(directory):\n",
    "    f = open(directory + file_name)\n",
    "\n",
    "    # account for json coding errs\n",
    "    try:\n",
    "        result = json.load(f)\n",
    "\n",
    "        if result['agent_3_nn']['success'] and result['agent_3_cnn']['success']:\n",
    "            # first load agent 1 results\n",
    "            success_df = success_df.append([{'Agent': '3_norm', 'Trajectory': result['agent_3']['trajectory_length'], 'Time': result['agent_3']['completion_time']}])\n",
    "            \n",
    "            # now neural network results\n",
    "            success_df = success_df.append([{'Agent': '3_nn', 'Trajectory': result['agent_3_nn']['trajectory_length'], 'Time': result['agent_3_nn']['completion_time']}])\n",
    "            success_df = success_df.append([{'Agent': '3_cnn', 'Trajectory': result['agent_3_cnn']['trajectory_length'], 'Time': result['agent_3_cnn']['completion_time']}])\n",
    "    \n",
    "    except ValueError:\n",
    "        print(file_name)\n",
    "    \n",
    "    # Close file socket\n",
    "    f.close()\n",
    "\n",
    "# success_df = success_df.reset_index()\n",
    "success_df.head()"
   ],
   "outputs": [
    {
     "output_type": "execute_result",
     "data": {
      "text/plain": [
       "    Agent Trajectory      Time\n",
       "0  3_norm        207  0.185539\n",
       "0    3_nn        275  8.736627\n",
       "0   3_cnn        249  9.074837\n",
       "0  3_norm        176  0.217435\n",
       "0    3_nn        211  8.006676"
      ],
      "text/html": [
       "<div>\n",
       "<style scoped>\n",
       "    .dataframe tbody tr th:only-of-type {\n",
       "        vertical-align: middle;\n",
       "    }\n",
       "\n",
       "    .dataframe tbody tr th {\n",
       "        vertical-align: top;\n",
       "    }\n",
       "\n",
       "    .dataframe thead th {\n",
       "        text-align: right;\n",
       "    }\n",
       "</style>\n",
       "<table border=\"1\" class=\"dataframe\">\n",
       "  <thead>\n",
       "    <tr style=\"text-align: right;\">\n",
       "      <th></th>\n",
       "      <th>Agent</th>\n",
       "      <th>Trajectory</th>\n",
       "      <th>Time</th>\n",
       "    </tr>\n",
       "  </thead>\n",
       "  <tbody>\n",
       "    <tr>\n",
       "      <th>0</th>\n",
       "      <td>3_norm</td>\n",
       "      <td>207</td>\n",
       "      <td>0.185539</td>\n",
       "    </tr>\n",
       "    <tr>\n",
       "      <th>0</th>\n",
       "      <td>3_nn</td>\n",
       "      <td>275</td>\n",
       "      <td>8.736627</td>\n",
       "    </tr>\n",
       "    <tr>\n",
       "      <th>0</th>\n",
       "      <td>3_cnn</td>\n",
       "      <td>249</td>\n",
       "      <td>9.074837</td>\n",
       "    </tr>\n",
       "    <tr>\n",
       "      <th>0</th>\n",
       "      <td>3_norm</td>\n",
       "      <td>176</td>\n",
       "      <td>0.217435</td>\n",
       "    </tr>\n",
       "    <tr>\n",
       "      <th>0</th>\n",
       "      <td>3_nn</td>\n",
       "      <td>211</td>\n",
       "      <td>8.006676</td>\n",
       "    </tr>\n",
       "  </tbody>\n",
       "</table>\n",
       "</div>"
      ]
     },
     "metadata": {},
     "execution_count": 9
    }
   ],
   "metadata": {}
  },
  {
   "cell_type": "code",
   "execution_count": 10,
   "source": [
    "success_df = success_df.convert_dtypes()\n",
    "grouped_df = success_df.groupby(['Agent'])\n",
    "avg_results_df = grouped_df.mean()\n",
    "avg_results_df.head()"
   ],
   "outputs": [
    {
     "output_type": "execute_result",
     "data": {
      "text/plain": [
       "        Trajectory       Time\n",
       "Agent                        \n",
       "3_cnn   298.121146  10.458834\n",
       "3_nn    365.048108  11.840325\n",
       "3_norm  237.198951   0.255144"
      ],
      "text/html": [
       "<div>\n",
       "<style scoped>\n",
       "    .dataframe tbody tr th:only-of-type {\n",
       "        vertical-align: middle;\n",
       "    }\n",
       "\n",
       "    .dataframe tbody tr th {\n",
       "        vertical-align: top;\n",
       "    }\n",
       "\n",
       "    .dataframe thead th {\n",
       "        text-align: right;\n",
       "    }\n",
       "</style>\n",
       "<table border=\"1\" class=\"dataframe\">\n",
       "  <thead>\n",
       "    <tr style=\"text-align: right;\">\n",
       "      <th></th>\n",
       "      <th>Trajectory</th>\n",
       "      <th>Time</th>\n",
       "    </tr>\n",
       "    <tr>\n",
       "      <th>Agent</th>\n",
       "      <th></th>\n",
       "      <th></th>\n",
       "    </tr>\n",
       "  </thead>\n",
       "  <tbody>\n",
       "    <tr>\n",
       "      <th>3_cnn</th>\n",
       "      <td>298.121146</td>\n",
       "      <td>10.458834</td>\n",
       "    </tr>\n",
       "    <tr>\n",
       "      <th>3_nn</th>\n",
       "      <td>365.048108</td>\n",
       "      <td>11.840325</td>\n",
       "    </tr>\n",
       "    <tr>\n",
       "      <th>3_norm</th>\n",
       "      <td>237.198951</td>\n",
       "      <td>0.255144</td>\n",
       "    </tr>\n",
       "  </tbody>\n",
       "</table>\n",
       "</div>"
      ]
     },
     "metadata": {},
     "execution_count": 10
    }
   ],
   "metadata": {}
  },
  {
   "cell_type": "code",
   "execution_count": 5,
   "source": [
    "# calculate solvability\n",
    "# iterate through all result json files\n",
    "nn_fails = 0\n",
    "cnn_fails = 0\n",
    "total = 0\n",
    "\n",
    "for file_name in os.listdir(directory):\n",
    "    f = open(directory + file_name)\n",
    "\n",
    "    # account for json coding errs\n",
    "    try:\n",
    "        result = json.load(f)\n",
    "        total += 1\n",
    "\n",
    "        if not result['agent_3_nn']['success']:\n",
    "            nn_fails += 1\n",
    "            \n",
    "        if not result['agent_3_cnn']['success']:\n",
    "            cnn_fails += 1\n",
    "    \n",
    "    except ValueError:\n",
    "        print(file_name)\n",
    "\n",
    "print(nn_fails)\n",
    "print(cnn_fails)\n",
    "print(total)"
   ],
   "outputs": [],
   "metadata": {}
  }
 ],
 "metadata": {
  "interpreter": {
   "hash": "31f2aee4e71d21fbe5cf8b01ff0e069b9275f58929596ceb00d14d90e3e16cd6"
  },
  "kernelspec": {
   "name": "python3",
   "display_name": "Python 3.8.10 64-bit"
  },
  "language_info": {
   "codemirror_mode": {
    "name": "ipython",
    "version": 3
   },
   "file_extension": ".py",
   "mimetype": "text/x-python",
   "name": "python",
   "nbconvert_exporter": "python",
   "pygments_lexer": "ipython3",
   "version": "3.8.10"
  }
 },
 "nbformat": 4,
 "nbformat_minor": 2
}