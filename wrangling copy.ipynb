{
 "cells": [
  {
   "cell_type": "code",
   "execution_count": null,
   "source": [
    "import pandas as pd\n",
    "import os\n",
    "import json"
   ],
   "outputs": [],
   "metadata": {}
  },
  {
   "cell_type": "code",
   "execution_count": null,
   "source": [
    "success_df = pd.DataFrame(columns = ['Agent', 'Trajectory', 'Time'])"
   ],
   "outputs": [],
   "metadata": {}
  },
  {
   "cell_type": "code",
   "execution_count": null,
   "source": [
    "directory = '/common/users/ac1771/imitation-game/results/agent_1/'\n",
    "\n",
    "# iterate through all result json files\n",
    "for file_name in os.listdir(directory):\n",
    "    f = open(directory + file_name)\n",
    "\n",
    "    # account for json coding errs\n",
    "    try:\n",
    "        result = json.load(f)\n",
    "\n",
    "        if result['agent_1_nn']['success'] and result['agent_1_cnn']['success']:\n",
    "            # first load agent 1 results\n",
    "            success_df = success_df.append([{'Agent': '1_norm', 'Trajectory': result['agent_1']['trajectory_length'], 'Time': result['agent_1']['completion_time']}])\n",
    "            \n",
    "            # now neural network results\n",
    "            success_df = success_df.append([{'Agent': '1_nn', 'Trajectory': result['agent_1_nn']['trajectory_length'], 'Time': result['agent_1_nn']['completion_time']}])\n",
    "            success_df = success_df.append([{'Agent': '1_cnn', 'Trajectory': result['agent_1_cnn']['trajectory_length'], 'Time': result['agent_1_cnn']['completion_time']}])\n",
    "    \n",
    "    except ValueError:\n",
    "        print(file_name)\n",
    "    \n",
    "    # Close file socket\n",
    "    f.close()\n",
    "\n",
    "success_df = success_df.reset_index()\n",
    "success_df.head()"
   ],
   "outputs": [],
   "metadata": {}
  },
  {
   "cell_type": "code",
   "execution_count": null,
   "source": [
    "success_df = success_df.convert_dtypes()\n",
    "grouped_df = success_df.groupby(['Agent'])\n",
    "avg_results_df = grouped_df.mean()\n",
    "avg_results_df.head()"
   ],
   "outputs": [],
   "metadata": {}
  }
 ],
 "metadata": {
  "interpreter": {
   "hash": "31f2aee4e71d21fbe5cf8b01ff0e069b9275f58929596ceb00d14d90e3e16cd6"
  },
  "kernelspec": {
   "name": "python3",
   "display_name": "Python 3.8.10 64-bit"
  },
  "language_info": {
   "codemirror_mode": {
    "name": "ipython",
    "version": 3
   },
   "file_extension": ".py",
   "mimetype": "text/x-python",
   "name": "python",
   "nbconvert_exporter": "python",
   "pygments_lexer": "ipython3",
   "version": "3.8.10"
  }
 },
 "nbformat": 4,
 "nbformat_minor": 2
}