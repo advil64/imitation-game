{
 "cells": [
  {
   "cell_type": "code",
   "execution_count": 38,
   "metadata": {},
   "outputs": [],
   "source": [
    "import os\n",
    "import json\n",
    "import numpy as np\n",
    "import tensorflow as tf"
   ]
  },
  {
   "cell_type": "code",
   "execution_count": 39,
   "metadata": {},
   "outputs": [],
   "source": [
    "# List that holds all the grids to be used as inputs for training\n",
    "x_train_grid = []\n",
    "# List that holds all the positions to be used as inputs for training\n",
    "x_train_position = []\n",
    "# List that holds all the distances to be used as inputs for training\n",
    "x_train_distance = []\n",
    "# List that holds all the directions to be used as outputs for training\n",
    "y_train = []\n",
    "\n",
    "# List that holds all the grids to be used as inputs for testing\n",
    "x_test_grid = []\n",
    "# List that holds all the positions to be used as inputs for testing\n",
    "x_test_position = []\n",
    "# List that holds all the distances to be used as inputs for testing\n",
    "x_test_distance = []\n",
    "# List that holds all the directions to be used as outputs for testing\n",
    "y_test = []"
   ]
  },
  {
   "cell_type": "code",
   "execution_count": 40,
   "metadata": {},
   "outputs": [],
   "source": [
    "# Name of directory for grids\n",
    "directory_name = './data/small_grids/'\n",
    "\n",
    "# iterate through all training grids\n",
    "for file_name in os.listdir(directory_name):\n",
    "    f = open(directory_name + file_name)\n",
    "    data = json.load(f)\n",
    "\n",
    "    # Iterate through all the data in a given grid and append their input and output values\n",
    "    for i in data:\n",
    "        x_train_grid.append(i['gridworld'])\n",
    "        x_train_position.append(i['position'])\n",
    "        x_train_distance.append(i['distance'])\n",
    "        y_train.append(i['direction'])\n",
    "    \n",
    "    # Close file socket\n",
    "    f.close()"
   ]
  },
  {
   "cell_type": "code",
   "execution_count": 41,
   "metadata": {},
   "outputs": [],
   "source": [
    "# Name of directory for grids\n",
    "directory_name = './data/small_grids_test/'\n",
    "\n",
    "# iterate through all training grids\n",
    "for file_name in os.listdir(directory_name):\n",
    "    f = open(directory_name + file_name)\n",
    "    data = json.load(f)\n",
    "\n",
    "    # Iterate through all the data in a given grid and append their input and output values\n",
    "    for i in data:\n",
    "        x_test_grid.append(i['gridworld'])\n",
    "        x_test_position.append(i['position'])\n",
    "        x_test_distance.append(i['distance'])\n",
    "        y_test.append(i['direction'])\n",
    "    \n",
    "    # Close file socket\n",
    "    f.close()"
   ]
  },
  {
   "cell_type": "code",
   "execution_count": 42,
   "metadata": {},
   "outputs": [
    {
     "name": "stdout",
     "output_type": "stream",
     "text": [
      "[[0, 0], [1, 0], [2, 0], [3, 0], [4, 0], [5, 0], [6, 0], [6, 0], [6, 1], [7, 1], [8, 1], [8, 1], [7, 1], [7, 2], [7, 3], [8, 3], [8, 3], [8, 4], [9, 4], [10, 4], [11, 4], [11, 4], [11, 5], [11, 5], [11, 6], [12, 6], [13, 6], [14, 6], [15, 6], [16, 6], [17, 6], [18, 6], [18, 6], [18, 7], [19, 7], [19, 7], [19, 8], [20, 8], [21, 8], [22, 8], [23, 8], [24, 8], [25, 8], [25, 8], [25, 9], [26, 9], [27, 9], [28, 9], [29, 9], [29, 10], [29, 11], [29, 11], [29, 10], [28, 10], [27, 10], [27, 10], [26, 10], [26, 11], [26, 12], [26, 12], [25, 12], [25, 13], [25, 13], [24, 13], [24, 14], [24, 14], [23, 14], [23, 15], [23, 16], [23, 16], [23, 17], [24, 17], [24, 17], [23, 17], [23, 18], [23, 19], [23, 19], [23, 20], [24, 20], [25, 20], [26, 20], [26, 20], [26, 21], [27, 21], [28, 21], [29, 21], [29, 21], [28, 21], [28, 22], [28, 23], [29, 23], [29, 24], [29, 24], [28, 24], [28, 25], [28, 26], [28, 26], [28, 27], [29, 27], [29, 27], [28, 27], [27, 27], [27, 28], [27, 29], [28, 29], [0, 0], [1, 0], [2, 0], [2, 0], [2, 1], [2, 1], [2, 2], [2, 2], [2, 3], [3, 3], [4, 3], [4, 3], [4, 4], [5, 4], [6, 4], [7, 4], [8, 4], [9, 4], [10, 4], [11, 4], [11, 4], [11, 5], [11, 5], [11, 4], [11, 3], [12, 3], [13, 3], [14, 3], [15, 3], [15, 3], [15, 4], [15, 4], [15, 5], [16, 5], [17, 5], [17, 5], [16, 5], [16, 6], [16, 7], [16, 7], [16, 8], [17, 8], [18, 8], [19, 8], [20, 8], [21, 8], [21, 8], [21, 9], [21, 9], [21, 10], [22, 10], [22, 10], [22, 11], [22, 11], [21, 11], [21, 12], [21, 12], [20, 12], [20, 13], [20, 14], [21, 14], [21, 14], [21, 15], [22, 15], [23, 15], [23, 15], [23, 16], [24, 16], [25, 16], [26, 16], [27, 16], [28, 16], [29, 16], [29, 17], [29, 18], [29, 19], [29, 20], [29, 21], [29, 21], [29, 20], [28, 20], [28, 20], [29, 20], [29, 19], [29, 18], [28, 18], [27, 18], [27, 19], [26, 19], [26, 19], [26, 18], [26, 18], [26, 17], [25, 17], [24, 17], [24, 18], [24, 19], [24, 19], [24, 18], [23, 18], [23, 18], [24, 18], [24, 17], [24, 16], [23, 16], [23, 15], [22, 15], [21, 15], [21, 16], [21, 17], [21, 18], [21, 19], [22, 19], [22, 19], [21, 19], [20, 19], [20, 19], [19, 19], [19, 19], [18, 19], [18, 19], [17, 19], [17, 20], [17, 21], [18, 21], [19, 21], [20, 21], [21, 21], [21, 21], [21, 22], [21, 22], [21, 23], [21, 23], [21, 24], [21, 24], [20, 24], [20, 25], [20, 26], [20, 26], [20, 27], [20, 27], [20, 28], [21, 28], [22, 28], [22, 28], [22, 29], [23, 29], [24, 29], [24, 29], [23, 29], [22, 29], [22, 28], [22, 27], [23, 27], [24, 27], [25, 27], [26, 27], [27, 27], [28, 27], [29, 27], [29, 27], [28, 27], [28, 28], [28, 29], [0, 0], [1, 0], [2, 0], [2, 0], [2, 1], [3, 1], [4, 1], [5, 1], [5, 1], [5, 2], [5, 2], [4, 2], [4, 3], [4, 4], [5, 4], [6, 4], [7, 4], [8, 4], [9, 4], [10, 4], [11, 4], [12, 4], [13, 4], [14, 4], [15, 4], [16, 4], [16, 4], [16, 5], [17, 5], [18, 5], [18, 5], [18, 6], [19, 6], [20, 6], [21, 6], [22, 6], [22, 6], [21, 6], [21, 7], [21, 8], [21, 8], [20, 8], [20, 9], [20, 10], [20, 10], [19, 10], [19, 10], [20, 10], [20, 9], [20, 8], [21, 8], [21, 7], [21, 6], [22, 6], [22, 5], [23, 5], [24, 5], [24, 5], [23, 5], [23, 4], [23, 3], [24, 3], [24, 3], [24, 2], [24, 2], [24, 1], [24, 1], [24, 2], [24, 3], [23, 3], [23, 4], [23, 5], [22, 5], [22, 6], [21, 6], [20, 6], [19, 6], [19, 7], [18, 7], [18, 8], [18, 9], [17, 9], [17, 10], [17, 11], [18, 11], [18, 12], [18, 12], [18, 13], [19, 13], [20, 13], [21, 13], [22, 13], [22, 13], [22, 14], [23, 14], [24, 14], [24, 14], [24, 15], [25, 15], [25, 15], [25, 16], [26, 16], [27, 16], [28, 16], [28, 16], [28, 17], [29, 17], [29, 18], [29, 18], [28, 18], [28, 18], [28, 17], [27, 17], [27, 16], [26, 16], [25, 16], [25, 17], [25, 17], [25, 16], [24, 16], [23, 16], [23, 16], [24, 16], [24, 15], [24, 14], [23, 14], [22, 14], [22, 15], [21, 15], [21, 16], [21, 17], [21, 17], [21, 18], [22, 18], [23, 18], [23, 18], [23, 19], [24, 19], [24, 19], [24, 20], [25, 20], [26, 20], [27, 20], [28, 20], [29, 20], [29, 21], [29, 22], [29, 22], [28, 22], [28, 23], [28, 24], [28, 24], [28, 25], [28, 25], [27, 25], [27, 26], [27, 27], [28, 27], [29, 27], [29, 28], [0, 0], [1, 0], [2, 0], [3, 0], [3, 0], [3, 1], [4, 1], [5, 1], [5, 1], [5, 2], [6, 2], [7, 2], [7, 2], [7, 3], [8, 3], [9, 3], [10, 3], [10, 3], [10, 4], [10, 4], [10, 5], [10, 5], [10, 6], [11, 6], [12, 6], [12, 6], [12, 7], [13, 7], [14, 7], [14, 7], [14, 8], [15, 8], [16, 8], [16, 8], [15, 8], [15, 9], [15, 9], [14, 9], [14, 10], [14, 10], [13, 10], [13, 11], [13, 12], [14, 12], [15, 12], [16, 12], [17, 12], [17, 12], [16, 12], [16, 13], [16, 13], [15, 13], [15, 14], [15, 15], [16, 15], [17, 15], [17, 15], [17, 16], [17, 16], [16, 16], [16, 17], [16, 17], [16, 16], [15, 16], [14, 16], [14, 16], [13, 16], [13, 16], [12, 16], [12, 17], [12, 18], [13, 18], [13, 18], [13, 19], [14, 19], [14, 19], [14, 20], [14, 20], [14, 21], [15, 21], [16, 21], [16, 21], [15, 21], [15, 22], [15, 23], [16, 23], [16, 23], [15, 23], [14, 23], [14, 24], [14, 25], [15, 25], [16, 25], [17, 25], [18, 25], [19, 25], [20, 25], [21, 25], [21, 25], [21, 24], [22, 24], [22, 24], [22, 23], [23, 23], [23, 23], [23, 22], [24, 22], [25, 22], [26, 22], [26, 22], [26, 23], [27, 23], [27, 23], [27, 24], [27, 24], [26, 24], [26, 25], [26, 26], [27, 26], [28, 26], [29, 26], [29, 27], [29, 28], [0, 0], [1, 0], [2, 0], [3, 0], [4, 0], [5, 0], [5, 0], [5, 1], [5, 1], [5, 2], [6, 2], [7, 2], [7, 2], [6, 2], [6, 3], [6, 3], [6, 2], [7, 2], [7, 1], [7, 1], [7, 0], [8, 0], [9, 0], [10, 0], [11, 0], [12, 0], [13, 0], [14, 0], [14, 0], [14, 1], [15, 1], [16, 1], [16, 1], [16, 2], [17, 2], [17, 2], [17, 3], [17, 3], [17, 4], [18, 4], [19, 4], [20, 4], [21, 4], [22, 4], [23, 4], [24, 4], [24, 4], [24, 5], [25, 5], [26, 5], [27, 5], [28, 5], [29, 5], [29, 5], [28, 5], [28, 6], [28, 7], [29, 7], [29, 8], [29, 8], [28, 8], [28, 9], [28, 10], [29, 10], [29, 10], [28, 10], [28, 11], [28, 12], [29, 12], [29, 12], [28, 12], [27, 12], [27, 13], [27, 13], [26, 13], [26, 14], [26, 14], [25, 14], [25, 15], [25, 16], [26, 16], [27, 16], [28, 16], [29, 16], [29, 17], [29, 17], [29, 16], [28, 16], [27, 16], [26, 16], [25, 16], [25, 17], [25, 18], [26, 18], [26, 18], [26, 19], [27, 19], [28, 19], [29, 19], [29, 19], [28, 19], [28, 20], [28, 21], [29, 21], [29, 21], [28, 21], [27, 21], [27, 21], [26, 21], [26, 21], [25, 21], [25, 22], [25, 23], [26, 23], [26, 23], [26, 24], [26, 24], [26, 25], [27, 25], [28, 25], [28, 25], [28, 26], [28, 26], [28, 27], [28, 27], [28, 28], [29, 28]]\n",
      "[3, 3, 3, 3, 3, 3, 3, 2, 3, 3, 3, 1, 2, 2, 3, 3, 2, 3, 3, 3, 3, 2, 3, 2, 3, 3, 3, 3, 3, 3, 3, 3, 2, 3, 3, 2, 3, 3, 3, 3, 3, 3, 3, 2, 3, 3, 3, 3, 2, 2, 2, 0, 1, 1, 2, 1, 2, 2, 3, 1, 2, 2, 1, 2, 2, 1, 2, 2, 3, 2, 3, 3, 1, 2, 2, 3, 2, 3, 3, 3, 3, 2, 3, 3, 3, 2, 1, 2, 2, 3, 2, 2, 1, 2, 2, 3, 2, 3, 2, 1, 1, 2, 2, 3, 3, 3, 3, 3, 2, 3, 2, 3, 2, 3, 3, 3, 2, 3, 3, 3, 3, 3, 3, 3, 3, 2, 3, 0, 0, 3, 3, 3, 3, 3, 2, 3, 2, 3, 3, 3, 1, 2, 2, 3, 2, 3, 3, 3, 3, 3, 3, 2, 3, 2, 3, 3, 2, 3, 1, 2, 2, 1, 2, 2, 3, 3, 2, 3, 3, 3, 2, 3, 3, 3, 3, 3, 3, 2, 2, 2, 2, 2, 2, 0, 1, 1, 3, 0, 0, 1, 1, 2, 1, 2, 0, 1, 0, 1, 1, 2, 2, 2, 0, 1, 1, 3, 0, 0, 1, 0, 1, 1, 2, 2, 2, 2, 3, 2, 1, 1, 2, 1, 2, 1, 2, 1, 2, 2, 3, 3, 3, 3, 3, 2, 3, 2, 3, 2, 3, 1, 2, 2, 3, 2, 3, 2, 3, 3, 3, 2, 3, 3, 3, 1, 1, 0, 0, 3, 3, 3, 3, 3, 3, 3, 2, 1, 2, 2, 3, 3, 3, 3, 2, 3, 3, 3, 3, 2, 3, 1, 2, 2, 3, 3, 3, 3, 3, 3, 3, 3, 3, 3, 3, 3, 3, 2, 3, 3, 3, 2, 3, 3, 3, 3, 3, 1, 2, 2, 3, 1, 2, 2, 3, 1, 2, 3, 0, 0, 3, 0, 0, 3, 0, 3, 3, 3, 1, 0, 0, 3, 3, 0, 3, 0, 3, 2, 2, 1, 2, 2, 1, 2, 1, 1, 1, 2, 1, 2, 2, 1, 2, 2, 3, 2, 3, 2, 3, 3, 3, 3, 3, 2, 3, 3, 3, 2, 3, 3, 2, 3, 3, 3, 3, 2, 3, 2, 2, 1, 2, 0, 1, 0, 1, 1, 2, 2, 0, 1, 1, 2, 3, 0, 0, 1, 1, 2, 1, 2, 2, 3, 2, 3, 3, 3, 2, 3, 3, 2, 3, 3, 3, 3, 3, 2, 2, 2, 1, 2, 2, 3, 2, 3, 1, 2, 2, 3, 3, 2, 2, 3, 3, 3, 3, 2, 3, 3, 3, 2, 3, 3, 3, 2, 3, 3, 3, 3, 2, 3, 2, 3, 2, 3, 3, 3, 2, 3, 3, 3, 2, 3, 3, 3, 1, 2, 2, 1, 2, 2, 1, 2, 2, 3, 3, 3, 3, 3, 1, 2, 2, 1, 2, 2, 3, 3, 3, 2, 3, 1, 2, 2, 0, 1, 1, 2, 1, 2, 1, 2, 2, 3, 3, 2, 3, 3, 2, 3, 2, 3, 3, 3, 1, 2, 2, 3, 3, 1, 1, 2, 2, 3, 3, 3, 3, 3, 3, 3, 3, 0, 3, 3, 0, 3, 3, 0, 3, 3, 3, 3, 2, 3, 3, 2, 3, 1, 2, 2, 3, 3, 3, 2, 2, 2, 3, 3, 3, 3, 3, 3, 2, 3, 2, 3, 3, 3, 1, 2, 2, 0, 3, 0, 3, 0, 3, 3, 3, 3, 3, 3, 3, 3, 2, 3, 3, 3, 2, 3, 3, 2, 3, 2, 3, 3, 3, 3, 3, 3, 3, 3, 2, 3, 3, 3, 3, 3, 2, 1, 2, 2, 3, 2, 2, 1, 2, 2, 3, 2, 1, 2, 2, 3, 2, 1, 1, 2, 2, 1, 2, 2, 1, 2, 2, 3, 3, 3, 3, 2, 2, 0, 1, 1, 1, 1, 2, 2, 3, 3, 2, 3, 3, 3, 2, 1, 2, 2, 3, 2, 1, 1, 2, 1, 2, 1, 2, 2, 3, 3, 2, 3, 2, 3, 3, 3, 2, 3, 2, 3, 2, 3, 2]\n"
     ]
    }
   ],
   "source": [
    "print(x_train_position)\n",
    "print(y_train)"
   ]
  },
  {
   "cell_type": "code",
   "execution_count": 43,
   "metadata": {},
   "outputs": [],
   "source": [
    "# Reshape the data\n",
    "train_in_grid = np.reshape( x_train_grid, (-1, 30, 30) ) / 2\n",
    "train_in_position = np.reshape( x_train_position, (-1, 2, 1) ) / 30\n",
    "train_in_distance = np.reshape( x_train_distance, (-1,1,1) ) / 60\n",
    "train_out = tf.keras.utils.to_categorical( y_train, 4 )\n",
    "\n",
    "test_in_grid = np.reshape( x_test_grid, (-1, 30, 30) ) / 2\n",
    "test_in_position = np.reshape( x_test_position, (-1, 2, 1) ) / 30\n",
    "test_in_distance = np.reshape( x_test_distance, (-1, 1, 1) ) / 60\n",
    "test_out = tf.keras.utils.to_categorical( y_test, 4 )"
   ]
  },
  {
   "cell_type": "code",
   "execution_count": 44,
   "metadata": {},
   "outputs": [],
   "source": [
    "# Flatten the grid input\n",
    "grid_input = tf.keras.layers.Input( shape = (30,30) )\n",
    "flatten_grid = tf.keras.layers.Flatten()( grid_input )"
   ]
  },
  {
   "cell_type": "code",
   "execution_count": 45,
   "metadata": {},
   "outputs": [],
   "source": [
    "# Flatten the position input\n",
    "position_input = tf.keras.layers.Input( shape = (2,1) )\n",
    "flatten_position = tf.keras.layers.Flatten()( position_input )"
   ]
  },
  {
   "cell_type": "code",
   "execution_count": 46,
   "metadata": {},
   "outputs": [],
   "source": [
    "# flatten the distance inputs\n",
    "distance_input = tf.keras.layers.Input( shape = (1,1) )\n",
    "flatten_distance = tf.keras.layers.Flatten()( distance_input )"
   ]
  },
  {
   "cell_type": "code",
   "execution_count": 47,
   "metadata": {},
   "outputs": [],
   "source": [
    "# Concatenate the grid and position into one vector which will be passed to neural network as input\n",
    "final_input = tf.keras.layers.Concatenate()([flatten_grid, flatten_position, flatten_distance])"
   ]
  },
  {
   "cell_type": "code",
   "execution_count": 48,
   "metadata": {},
   "outputs": [],
   "source": [
    "# Create layers for Neural Network\n",
    "dense_1 = tf.keras.layers.Dense( units = 100, activation = tf.nn.relu )( final_input )\n",
    "dense_2 = tf.keras.layers.Dense( units = 50, activation = tf.nn.relu )( dense_1 )\n",
    "dense_3 = tf.keras.layers.Dense( units = 10, activation = tf.nn.relu )( dense_2 )\n",
    "logits = tf.keras.layers.Dense( units = 4, activation = None )( dense_3 )\n",
    "probabilities = tf.keras.layers.Softmax()( logits )"
   ]
  },
  {
   "cell_type": "code",
   "execution_count": 49,
   "metadata": {},
   "outputs": [],
   "source": [
    "# Compile the neural network to use stochastic gradient descent as the optimizer and categorical_crossentropy as loss function\n",
    "model = tf.keras.Model( inputs = [grid_input, position_input, distance_input], outputs = probabilities )\n",
    "model.compile( optimizer = 'sgd', loss = 'categorical_crossentropy', metrics = ['accuracy'] )"
   ]
  },
  {
   "cell_type": "code",
   "execution_count": 50,
   "metadata": {},
   "outputs": [],
   "source": [
    "def generate_confusion_matrix( data, labels ):\n",
    "    mat = [ [ 0 for i in range(4) ] for j in range(4) ]\n",
    "    \n",
    "    predictions = np.argmax( model.predict( data ), axis = 1 )\n",
    "    \n",
    "    for i in range( data[0].shape[0] ):\n",
    "        mat[ labels[i] ][ predictions[i] ] += 1\n",
    "    \n",
    "    for i in range(4):\n",
    "        print( \"\\t\".join( [ str(c) for c in mat[i] ] ) )"
   ]
  },
  {
   "cell_type": "code",
   "execution_count": 51,
   "metadata": {},
   "outputs": [
    {
     "name": "stdout",
     "output_type": "stream",
     "text": [
      "0\t0\t2\t0\n",
      "0\t0\t14\t0\n",
      "0\t0\t40\t0\n",
      "0\t0\t54\t0\n"
     ]
    }
   ],
   "source": [
    "# Test out before training\n",
    "generate_confusion_matrix( [test_in_grid, test_in_position, test_in_distance], y_test )"
   ]
  },
  {
   "cell_type": "code",
   "execution_count": 52,
   "metadata": {},
   "outputs": [
    {
     "name": "stdout",
     "output_type": "stream",
     "text": [
      "Epoch 1/20\n",
      "22/22 [==============================] - 3s 20ms/step - loss: 1.2017 - accuracy: 0.4271\n",
      "Epoch 2/20\n",
      "22/22 [==============================] - 0s 16ms/step - loss: 1.1333 - accuracy: 0.4845\n",
      "Epoch 3/20\n",
      "22/22 [==============================] - 0s 12ms/step - loss: 1.1135 - accuracy: 0.4934\n",
      "Epoch 4/20\n",
      "22/22 [==============================] - 0s 18ms/step - loss: 1.1189 - accuracy: 0.4860\n",
      "Epoch 5/20\n",
      "22/22 [==============================] - 0s 15ms/step - loss: 1.1027 - accuracy: 0.5066\n",
      "Epoch 6/20\n",
      "22/22 [==============================] - 0s 11ms/step - loss: 1.1060 - accuracy: 0.5007\n",
      "Epoch 7/20\n",
      "22/22 [==============================] - 0s 16ms/step - loss: 1.0962 - accuracy: 0.4875\n",
      "Epoch 8/20\n",
      "22/22 [==============================] - 0s 10ms/step - loss: 1.1023 - accuracy: 0.5022\n",
      "Epoch 9/20\n",
      "22/22 [==============================] - 0s 13ms/step - loss: 1.0947 - accuracy: 0.5022\n",
      "Epoch 10/20\n",
      "22/22 [==============================] - 0s 10ms/step - loss: 1.0838 - accuracy: 0.5184\n",
      "Epoch 11/20\n",
      "22/22 [==============================] - 0s 12ms/step - loss: 1.0932 - accuracy: 0.5140\n",
      "Epoch 12/20\n",
      "22/22 [==============================] - 0s 16ms/step - loss: 1.0856 - accuracy: 0.5155\n",
      "Epoch 13/20\n",
      "22/22 [==============================] - 0s 10ms/step - loss: 1.0836 - accuracy: 0.5199\n",
      "Epoch 14/20\n",
      "22/22 [==============================] - 0s 14ms/step - loss: 1.0807 - accuracy: 0.5110\n",
      "Epoch 15/20\n",
      "22/22 [==============================] - 0s 12ms/step - loss: 1.0806 - accuracy: 0.5096\n",
      "Epoch 16/20\n",
      "22/22 [==============================] - 0s 15ms/step - loss: 1.0798 - accuracy: 0.5125\n",
      "Epoch 17/20\n",
      "22/22 [==============================] - 0s 12ms/step - loss: 1.0833 - accuracy: 0.5125\n",
      "Epoch 18/20\n",
      "22/22 [==============================] - 0s 11ms/step - loss: 1.0684 - accuracy: 0.5140\n",
      "Epoch 19/20\n",
      "22/22 [==============================] - 0s 19ms/step - loss: 1.0703 - accuracy: 0.5272\n",
      "Epoch 20/20\n",
      "22/22 [==============================] - 0s 19ms/step - loss: 1.0625 - accuracy: 0.5317\n"
     ]
    }
   ],
   "source": [
    "# Train the model\n",
    "history = model.fit( [train_in_grid, train_in_position, train_in_distance], train_out, epochs = 20 )"
   ]
  },
  {
   "cell_type": "code",
   "execution_count": 53,
   "metadata": {},
   "outputs": [
    {
     "name": "stdout",
     "output_type": "stream",
     "text": [
      "0\t0\t0\t2\n",
      "0\t0\t0\t14\n",
      "0\t0\t0\t40\n",
      "0\t0\t0\t54\n"
     ]
    }
   ],
   "source": [
    "# Test out after training\n",
    "generate_confusion_matrix( [test_in_grid, test_in_position, test_in_distance], y_test )"
   ]
  }
 ],
 "metadata": {
  "interpreter": {
   "hash": "aee8b7b246df8f9039afb4144a1f6fd8d2ca17a180786b69acc140d282b71a49"
  },
  "kernelspec": {
   "display_name": "Python 3.7.9 64-bit",
   "language": "python",
   "name": "python3"
  },
  "language_info": {
   "codemirror_mode": {
    "name": "ipython",
    "version": 3
   },
   "file_extension": ".py",
   "mimetype": "text/x-python",
   "name": "python",
   "nbconvert_exporter": "python",
   "pygments_lexer": "ipython3",
   "version": "3.7.9"
  },
  "orig_nbformat": 4
 },
 "nbformat": 4,
 "nbformat_minor": 2
}
