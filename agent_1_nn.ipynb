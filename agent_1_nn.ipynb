{
 "cells": [
  {
   "cell_type": "code",
   "execution_count": 171,
   "metadata": {},
   "outputs": [],
   "source": [
    "import os\n",
    "import json\n",
    "import random\n",
    "import numpy as np\n",
    "import tensorflow as tf"
   ]
  },
  {
   "cell_type": "code",
   "execution_count": 172,
   "metadata": {},
   "outputs": [],
   "source": [
    "# List that holds all the grids to be used as inputs for training\n",
    "x_train_grid = []\n",
    "# List that holds all the positions to be used as inputs for training\n",
    "x_train_position = []\n",
    "# List that holds all the distances to be used as inputs for training\n",
    "x_train_distance = []\n",
    "# List that holds all the locals to be used as inputs for training\n",
    "x_train_locals = []\n",
    "# List that holds all the directions to be used as outputs for training\n",
    "y_train = []\n",
    "\n",
    "# List that holds all the grids to be used as inputs for testing\n",
    "x_test_grid = []\n",
    "# List that holds all the positions to be used as inputs for testing\n",
    "x_test_position = []\n",
    "# List that holds all the distances to be used as inputs for testing\n",
    "x_test_distance = []\n",
    "# List that holds all the locals to be used as inputs for testing\n",
    "x_test_locals = []\n",
    "# List that holds all the directions to be used as outputs for testing\n",
    "y_test = []"
   ]
  },
  {
   "cell_type": "code",
   "execution_count": 173,
   "metadata": {},
   "outputs": [],
   "source": [
    "# Name of directory for grids\n",
    "directory_name = './data/big/'\n",
    "\n",
    "direct_count = [0 for i in range(4)]\n",
    "\n",
    "# iterate through all training grids\n",
    "for file_name in os.listdir(directory_name):\n",
    "    f = open(directory_name + file_name)\n",
    "    try:\n",
    "        data = json.load(f)\n",
    "    except Exception:\n",
    "        continue\n",
    "\n",
    "    # Iterate through all the data in a given grid and append their input and output values\n",
    "    for i in data:\n",
    "        if len(i['gridworld']) != 2500:\n",
    "            print(file_name)\n",
    "            continue\n",
    "        x_train_grid.append(i['gridworld'])\n",
    "        x_train_position.append(i['position'])\n",
    "        x_train_distance.append(i['distance'])\n",
    "        x_train_locals.append(i['local'])\n",
    "        y_train.append(i['direction'])\n",
    "        direct_count[i['direction']] += 1\n",
    "    \n",
    "    # Close file socket\n",
    "    f.close()\n",
    "    "
   ]
  },
  {
   "cell_type": "code",
   "execution_count": 174,
   "metadata": {},
   "outputs": [
    {
     "name": "stdout",
     "output_type": "stream",
     "text": [
      "[4627, 11168, 24227, 30768]\n"
     ]
    }
   ],
   "source": [
    "print(direct_count)"
   ]
  },
  {
   "cell_type": "code",
   "execution_count": 175,
   "metadata": {},
   "outputs": [],
   "source": [
    "# Name of directory for grids\n",
    "directory_name = './data/bigtest/'\n",
    "\n",
    "# iterate through all training grids\n",
    "for file_name in os.listdir(directory_name):\n",
    "    f = open(directory_name + file_name)\n",
    "    data = json.load(f)\n",
    "\n",
    "    # Iterate through all the data in a given grid and append their input and output values\n",
    "    for i in data:\n",
    "        x_test_grid.append(i['gridworld'])\n",
    "        x_test_position.append(i['position'])\n",
    "        x_test_distance.append(i['distance'])\n",
    "        x_test_locals.append(i['local'])\n",
    "        y_test.append(i['direction'])\n",
    "    \n",
    "    # Close file socket\n",
    "    f.close()"
   ]
  },
  {
   "cell_type": "code",
   "execution_count": 176,
   "metadata": {},
   "outputs": [],
   "source": [
    "# Reshape the data\n",
    "train_in_grid = np.reshape( x_train_grid, (-1, 50, 50) ) / 2\n",
    "train_in_position = np.reshape( x_train_position, (-1, 50, 50) )\n",
    "train_in_locals = np.reshape( x_train_locals, (-1, 5, 5) )\n",
    "train_out = tf.keras.utils.to_categorical( y_train, 4 )\n",
    "\n",
    "test_in_grid = np.reshape( x_test_grid, (-1, 50, 50) ) / 2\n",
    "test_in_position = np.reshape( x_test_position, (-1, 50, 50) )\n",
    "test_in_locals = np.reshape( x_test_locals, (-1, 5, 5) )\n",
    "test_out = tf.keras.utils.to_categorical( y_test, 4 )"
   ]
  },
  {
   "cell_type": "code",
   "execution_count": 177,
   "metadata": {},
   "outputs": [],
   "source": [
    "# Flatten the grid input\n",
    "grid_input = tf.keras.layers.Input( shape = (50,50) )\n",
    "flatten_grid = tf.keras.layers.Flatten()( grid_input )"
   ]
  },
  {
   "cell_type": "code",
   "execution_count": 178,
   "metadata": {},
   "outputs": [],
   "source": [
    "# Flatten the position input\n",
    "position_input = tf.keras.layers.Input( shape = (50,50) )\n",
    "flatten_position = tf.keras.layers.Flatten()( position_input )"
   ]
  },
  {
   "cell_type": "code",
   "execution_count": 179,
   "metadata": {},
   "outputs": [],
   "source": [
    "# flatten the local inputs\n",
    "local_input = tf.keras.layers.Input( shape = (5,5) )\n",
    "flatten_local = tf.keras.layers.Flatten()( local_input )"
   ]
  },
  {
   "cell_type": "code",
   "execution_count": 180,
   "metadata": {},
   "outputs": [
    {
     "name": "stdout",
     "output_type": "stream",
     "text": [
      "KerasTensor(type_spec=TensorSpec(shape=(None, 5025), dtype=tf.float32, name=None), name='concatenate_10/concat:0', description=\"created by layer 'concatenate_10'\")\n"
     ]
    }
   ],
   "source": [
    "# Concatenate the grid and position into one vector which will be passed to neural network as input\n",
    "final_input = tf.keras.layers.Concatenate()([flatten_grid, flatten_local, flatten_position])\n",
    "print(final_input)"
   ]
  },
  {
   "cell_type": "code",
   "execution_count": 181,
   "metadata": {},
   "outputs": [],
   "source": [
    "# Create layers for Neural Network\n",
    "dense_1 = tf.keras.layers.Dense( units = 100, activation = tf.nn.relu )( final_input )\n",
    "dense_2 = tf.keras.layers.Dense( units = 64, activation = tf.nn.relu )( dense_1 )\n",
    "dense_3 = tf.keras.layers.Dense( units = 16, activation = tf.nn.relu )( dense_2 )\n",
    "logits = tf.keras.layers.Dense( units = 4, activation = None )( dense_3 )\n",
    "probabilities = tf.keras.layers.Softmax()( logits )"
   ]
  },
  {
   "cell_type": "code",
   "execution_count": 182,
   "metadata": {},
   "outputs": [],
   "source": [
    "# Compile the neural network to use stochastic gradient descent as the optimizer and categorical_crossentropy as loss function\n",
    "model = tf.keras.Model( inputs = [grid_input, local_input, position_input], outputs = probabilities )\n",
    "opt = tf.keras.optimizers.SGD()\n",
    "model.compile( optimizer = opt, loss = 'categorical_crossentropy', metrics = ['accuracy'] )"
   ]
  },
  {
   "cell_type": "code",
   "execution_count": 183,
   "metadata": {},
   "outputs": [],
   "source": [
    "def generate_confusion_matrix( data, labels ):\n",
    "    mat = [ [ 0 for i in range(4) ] for j in range(4) ]\n",
    "    \n",
    "    prob_predict = model.predict( data )\n",
    "    #print(prob_predict)\n",
    "    predictions = np.argmax( prob_predict, axis = 1 )\n",
    "    \n",
    "    for i in range( data[0].shape[0] ):\n",
    "        mat[ labels[i] ][ predictions[i] ] += 1\n",
    "        # if labels[i] == 0:\n",
    "        #     print(prob_predict[i])\n",
    "    \n",
    "    for i in range(4):\n",
    "        print( \"\\t\".join( [ str(c) for c in mat[i] ] ) )"
   ]
  },
  {
   "cell_type": "code",
   "execution_count": 184,
   "metadata": {},
   "outputs": [
    {
     "name": "stdout",
     "output_type": "stream",
     "text": [
      "0\t4\t0\t381\n",
      "0\t20\t0\t1048\n",
      "0\t8\t0\t2337\n",
      "0\t8\t0\t3020\n"
     ]
    }
   ],
   "source": [
    "# Test out before training\n",
    "generate_confusion_matrix( [test_in_grid, test_in_locals, test_in_position], y_test )"
   ]
  },
  {
   "cell_type": "code",
   "execution_count": 185,
   "metadata": {},
   "outputs": [
    {
     "name": "stdout",
     "output_type": "stream",
     "text": [
      "Epoch 1/7\n",
      "2213/2213 [==============================] - 11s 5ms/step - loss: 0.2554 - accuracy: 0.9059 - val_loss: 0.0746 - val_accuracy: 0.9719\n",
      "Epoch 2/7\n",
      "2213/2213 [==============================] - 8s 4ms/step - loss: 0.0913 - accuracy: 0.9689 - val_loss: 0.0548 - val_accuracy: 0.9811\n",
      "Epoch 3/7\n",
      "2213/2213 [==============================] - 8s 4ms/step - loss: 0.0697 - accuracy: 0.9756 - val_loss: 0.0978 - val_accuracy: 0.9593\n",
      "Epoch 4/7\n",
      "2213/2213 [==============================] - 8s 4ms/step - loss: 0.0654 - accuracy: 0.9781 - val_loss: 0.0416 - val_accuracy: 0.9849\n",
      "Epoch 5/7\n",
      "2213/2213 [==============================] - 8s 4ms/step - loss: 0.0549 - accuracy: 0.9809 - val_loss: 0.0450 - val_accuracy: 0.9833\n",
      "Epoch 6/7\n",
      "2213/2213 [==============================] - 8s 4ms/step - loss: 0.0512 - accuracy: 0.9823 - val_loss: 3.3862 - val_accuracy: 0.5627\n",
      "Epoch 7/7\n",
      "2213/2213 [==============================] - 8s 4ms/step - loss: 0.0528 - accuracy: 0.9821 - val_loss: 0.0407 - val_accuracy: 0.9856\n"
     ]
    }
   ],
   "source": [
    "# Train the model\n",
    "history = model.fit( [train_in_grid, train_in_locals, train_in_position], train_out, validation_data=([test_in_grid, test_in_locals, test_in_position], test_out), epochs = 7 )"
   ]
  },
  {
   "cell_type": "code",
   "execution_count": 186,
   "metadata": {},
   "outputs": [
    {
     "name": "stdout",
     "output_type": "stream",
     "text": [
      "341\t33\t7\t4\n",
      "5\t1058\t2\t3\n",
      "8\t4\t2331\t2\n",
      "11\t15\t4\t2998\n"
     ]
    }
   ],
   "source": [
    "# Test out after training\n",
    "generate_confusion_matrix( [test_in_grid, test_in_locals, test_in_position], y_test )"
   ]
  },
  {
   "cell_type": "code",
   "execution_count": 187,
   "metadata": {},
   "outputs": [
    {
     "name": "stdout",
     "output_type": "stream",
     "text": [
      "INFO:tensorflow:Assets written to: ./models/agent1_NN/assets\n"
     ]
    }
   ],
   "source": [
    "model.save('./models/agent1_NN')"
   ]
  }
 ],
 "metadata": {
  "interpreter": {
   "hash": "aee8b7b246df8f9039afb4144a1f6fd8d2ca17a180786b69acc140d282b71a49"
  },
  "kernelspec": {
   "display_name": "Python 3.7.9 64-bit",
   "language": "python",
   "name": "python3"
  },
  "language_info": {
   "codemirror_mode": {
    "name": "ipython",
    "version": 3
   },
   "file_extension": ".py",
   "mimetype": "text/x-python",
   "name": "python",
   "nbconvert_exporter": "python",
   "pygments_lexer": "ipython3",
   "version": "3.7.9"
  },
  "orig_nbformat": 4
 },
 "nbformat": 4,
 "nbformat_minor": 2
}
