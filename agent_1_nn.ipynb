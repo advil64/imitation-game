{
 "cells": [
  {
   "cell_type": "code",
   "execution_count": 286,
   "metadata": {},
   "outputs": [],
   "source": [
    "import os\n",
    "import json\n",
    "import numpy as np\n",
    "import tensorflow as tf"
   ]
  },
  {
   "cell_type": "code",
   "execution_count": 287,
   "metadata": {},
   "outputs": [],
   "source": [
    "# List that holds all the grids to be used as inputs for training\n",
    "x_train_grid = []\n",
    "# List that holds all the positions to be used as inputs for training\n",
    "x_train_position = []\n",
    "# List that holds all the distances to be used as inputs for training\n",
    "x_train_distance = []\n",
    "# List that holds all the locals to be used as inputs for training\n",
    "x_train_locals = []\n",
    "# List that holds all the directions to be used as outputs for training\n",
    "y_train = []\n",
    "\n",
    "# List that holds all the grids to be used as inputs for testing\n",
    "x_test_grid = []\n",
    "# List that holds all the positions to be used as inputs for testing\n",
    "x_test_position = []\n",
    "# List that holds all the distances to be used as inputs for testing\n",
    "x_test_distance = []\n",
    "# List that holds all the locals to be used as inputs for testing\n",
    "x_test_locals = []\n",
    "# List that holds all the directions to be used as outputs for testing\n",
    "y_test = []"
   ]
  },
  {
   "cell_type": "code",
   "execution_count": 288,
   "metadata": {},
   "outputs": [],
   "source": [
    "# Name of directory for grids\n",
    "directory_name = './data/big_grids/'\n",
    "\n",
    "direct_count = [0 for i in range(4)]\n",
    "\n",
    "# iterate through all training grids\n",
    "for file_name in os.listdir(directory_name):\n",
    "    f = open(directory_name + file_name)\n",
    "    data = json.load(f)\n",
    "\n",
    "    # Iterate through all the data in a given grid and append their input and output values\n",
    "    for i in data:\n",
    "        x_train_grid.append(i['gridworld'])\n",
    "        x_train_position.append(i['position'])\n",
    "        x_train_distance.append(i['distance'])\n",
    "        x_train_locals.append(i['local'])\n",
    "        y_train.append(i['direction'])\n",
    "        direct_count[i['direction']] += 1\n",
    "    \n",
    "    # Close file socket\n",
    "    f.close()\n",
    "\n",
    "# direct_count = [0 for i in range(4)]\n",
    "# sample = []\n",
    "\n",
    "# # iterate through all training grids\n",
    "# for file_name in os.listdir(directory_name):\n",
    "#     f = open(directory_name + file_name)\n",
    "#     data = json.load(f)\n",
    "\n",
    "#     # Iterate through all the data in a given grid and append their input and output values\n",
    "#     for i in data:\n",
    "#         if direct_count[i['direction']] < 10000:\n",
    "#             sample.append(i)\n",
    "#             direct_count[i['direction']] += 1\n",
    "    \n",
    "#     # Close file socket\n",
    "#     f.close()\n",
    "\n",
    "# np.random.shuffle(sample)\n",
    "# for i in sample:\n",
    "#     x_train_grid.append(i['gridworld'])\n",
    "#     x_train_position.append(i['position'])\n",
    "#     x_train_distance.append(i['distance'])\n",
    "#     x_train_locals.append(i['local'])\n",
    "#     y_train.append(i['direction'])\n",
    "    "
   ]
  },
  {
   "cell_type": "code",
   "execution_count": 289,
   "metadata": {},
   "outputs": [],
   "source": [
    "#print(np.reshape(x_train_grid[25], (30,30)))\n",
    "#print(x_train_position[25])\n",
    "#print(y_train[25])"
   ]
  },
  {
   "cell_type": "code",
   "execution_count": 290,
   "metadata": {},
   "outputs": [
    {
     "name": "stdout",
     "output_type": "stream",
     "text": [
      "[7324, 17775, 42744, 63171]\n"
     ]
    }
   ],
   "source": [
    "print(direct_count)"
   ]
  },
  {
   "cell_type": "code",
   "execution_count": 291,
   "metadata": {},
   "outputs": [],
   "source": [
    "# Name of directory for grids\n",
    "directory_name = './data/big_grids_test/'\n",
    "\n",
    "# iterate through all training grids\n",
    "for file_name in os.listdir(directory_name):\n",
    "    f = open(directory_name + file_name)\n",
    "    data = json.load(f)\n",
    "\n",
    "    # Iterate through all the data in a given grid and append their input and output values\n",
    "    for i in data:\n",
    "        x_test_grid.append(i['gridworld'])\n",
    "        x_test_position.append(i['position'])\n",
    "        x_test_distance.append(i['distance'])\n",
    "        x_test_locals.append(i['local'])\n",
    "        y_test.append(i['direction'])\n",
    "    \n",
    "    # Close file socket\n",
    "    f.close()"
   ]
  },
  {
   "cell_type": "code",
   "execution_count": 292,
   "metadata": {},
   "outputs": [],
   "source": [
    "#print(x_train_position)\n",
    "#print(y_train)"
   ]
  },
  {
   "cell_type": "code",
   "execution_count": 293,
   "metadata": {},
   "outputs": [],
   "source": [
    "# Reshape the data\n",
    "train_in_grid = np.reshape( x_train_grid, (-1, 50, 50) ) / 2\n",
    "train_in_position = np.reshape( x_train_position, (-1, 2, 1) )\n",
    "train_in_distance = np.reshape( x_train_distance, (-1,1,1) ) / 60\n",
    "train_in_locals = np.reshape( x_train_locals, (-1, 3, 3) )\n",
    "train_out = tf.keras.utils.to_categorical( y_train, 4 )\n",
    "\n",
    "test_in_grid = np.reshape( x_test_grid, (-1, 50, 50) ) / 2\n",
    "test_in_position = np.reshape( x_test_position, (-1, 2, 1) )\n",
    "test_in_distance = np.reshape( x_test_distance, (-1, 1, 1) ) / 60\n",
    "test_in_locals = np.reshape( x_test_locals, (-1, 3, 3) )\n",
    "test_out = tf.keras.utils.to_categorical( y_test, 4 )"
   ]
  },
  {
   "cell_type": "code",
   "execution_count": 294,
   "metadata": {},
   "outputs": [],
   "source": [
    "# Flatten the grid input\n",
    "grid_input = tf.keras.layers.Input( shape = (50,50) )\n",
    "flatten_grid = tf.keras.layers.Flatten()( grid_input )"
   ]
  },
  {
   "cell_type": "code",
   "execution_count": 295,
   "metadata": {},
   "outputs": [],
   "source": [
    "# Flatten the position input\n",
    "position_input = tf.keras.layers.Input( shape = (2,1) )\n",
    "flatten_position = tf.keras.layers.Flatten()( position_input )"
   ]
  },
  {
   "cell_type": "code",
   "execution_count": 296,
   "metadata": {},
   "outputs": [],
   "source": [
    "# flatten the distance inputs\n",
    "distance_input = tf.keras.layers.Input( shape = (1,1) )\n",
    "flatten_distance = tf.keras.layers.Flatten()( distance_input )"
   ]
  },
  {
   "cell_type": "code",
   "execution_count": 297,
   "metadata": {},
   "outputs": [],
   "source": [
    "# flatten the local inputs\n",
    "local_input = tf.keras.layers.Input( shape = (3,3) )\n",
    "flatten_local = tf.keras.layers.Flatten()( local_input )"
   ]
  },
  {
   "cell_type": "code",
   "execution_count": 298,
   "metadata": {},
   "outputs": [
    {
     "name": "stdout",
     "output_type": "stream",
     "text": [
      "KerasTensor(type_spec=TensorSpec(shape=(None, 2511), dtype=tf.float32, name=None), name='concatenate_14/concat:0', description=\"created by layer 'concatenate_14'\")\n"
     ]
    }
   ],
   "source": [
    "# Concatenate the grid and position into one vector which will be passed to neural network as input\n",
    "final_input = tf.keras.layers.Concatenate()([flatten_grid, flatten_local, flatten_position])\n",
    "print(final_input)"
   ]
  },
  {
   "cell_type": "code",
   "execution_count": 299,
   "metadata": {},
   "outputs": [],
   "source": [
    "# Create layers for Neural Network\n",
    "dense_1 = tf.keras.layers.Dense( units = 100, activation = tf.nn.relu )( final_input )\n",
    "dense_2 = tf.keras.layers.Dense( units = 80, activation = tf.nn.relu )( dense_1 )\n",
    "dense_3 = tf.keras.layers.Dense( units = 30, activation = tf.nn.relu )( dense_2 )\n",
    "dense_4 = tf.keras.layers.Dense( units = 10, activation = tf.nn.relu )( dense_3 )\n",
    "logits = tf.keras.layers.Dense( units = 4, activation = None )( dense_4 )\n",
    "probabilities = tf.keras.layers.Softmax()( logits )"
   ]
  },
  {
   "cell_type": "code",
   "execution_count": 300,
   "metadata": {},
   "outputs": [],
   "source": [
    "# Compile the neural network to use stochastic gradient descent as the optimizer and categorical_crossentropy as loss function\n",
    "model = tf.keras.Model( inputs = [grid_input, local_input, position_input], outputs = probabilities )\n",
    "opt = tf.keras.optimizers.SGD()\n",
    "model.compile( optimizer = opt, loss = 'categorical_crossentropy', metrics = ['accuracy'] )"
   ]
  },
  {
   "cell_type": "code",
   "execution_count": 301,
   "metadata": {},
   "outputs": [],
   "source": [
    "def generate_confusion_matrix( data, labels ):\n",
    "    mat = [ [ 0 for i in range(4) ] for j in range(4) ]\n",
    "    \n",
    "    prob_predict = model.predict( data )\n",
    "    #print(prob_predict)\n",
    "    predictions = np.argmax( prob_predict, axis = 1 )\n",
    "    \n",
    "    for i in range( data[0].shape[0] ):\n",
    "        mat[ labels[i] ][ predictions[i] ] += 1\n",
    "        # if labels[i] == 0:\n",
    "        #     print(prob_predict[i])\n",
    "    \n",
    "    for i in range(4):\n",
    "        print( \"\\t\".join( [ str(c) for c in mat[i] ] ) )"
   ]
  },
  {
   "cell_type": "code",
   "execution_count": 302,
   "metadata": {},
   "outputs": [
    {
     "name": "stdout",
     "output_type": "stream",
     "text": [
      "0\t0\t1219\t0\n",
      "0\t0\t2958\t0\n",
      "0\t0\t7144\t0\n",
      "0\t0\t10518\t0\n"
     ]
    }
   ],
   "source": [
    "# Test out before training\n",
    "generate_confusion_matrix( [test_in_grid, test_in_locals, test_in_position], y_test )"
   ]
  },
  {
   "cell_type": "code",
   "execution_count": 303,
   "metadata": {},
   "outputs": [
    {
     "name": "stdout",
     "output_type": "stream",
     "text": [
      "Epoch 1/10\n",
      "4095/4095 [==============================] - 20s 5ms/step - loss: 0.9254 - accuracy: 0.6148 - val_loss: 0.7006 - val_accuracy: 0.7482\n",
      "Epoch 2/10\n",
      "4095/4095 [==============================] - 17s 4ms/step - loss: 0.6460 - accuracy: 0.7472 - val_loss: 2.6352 - val_accuracy: 0.2126\n",
      "Epoch 3/10\n",
      "4095/4095 [==============================] - 16s 4ms/step - loss: 0.5795 - accuracy: 0.7746 - val_loss: 0.7125 - val_accuracy: 0.6872\n",
      "Epoch 4/10\n",
      "4095/4095 [==============================] - 18s 4ms/step - loss: 0.4779 - accuracy: 0.8125 - val_loss: 0.3576 - val_accuracy: 0.8571\n",
      "Epoch 5/10\n",
      "4095/4095 [==============================] - 18s 4ms/step - loss: 0.3961 - accuracy: 0.8509 - val_loss: 0.2805 - val_accuracy: 0.9063\n",
      "Epoch 6/10\n",
      "4095/4095 [==============================] - 18s 4ms/step - loss: 0.4097 - accuracy: 0.8480 - val_loss: 0.4351 - val_accuracy: 0.8516\n",
      "Epoch 7/10\n",
      "4095/4095 [==============================] - 18s 4ms/step - loss: 0.3780 - accuracy: 0.8636 - val_loss: 0.2896 - val_accuracy: 0.8687\n",
      "Epoch 8/10\n",
      "4095/4095 [==============================] - 18s 4ms/step - loss: 0.3001 - accuracy: 0.8911 - val_loss: 0.9963 - val_accuracy: 0.7295\n",
      "Epoch 9/10\n",
      "4095/4095 [==============================] - 18s 4ms/step - loss: 0.2544 - accuracy: 0.9078 - val_loss: 0.2205 - val_accuracy: 0.9198\n",
      "Epoch 10/10\n",
      "4095/4095 [==============================] - 19s 5ms/step - loss: 0.2505 - accuracy: 0.9072 - val_loss: 0.1842 - val_accuracy: 0.9258\n"
     ]
    }
   ],
   "source": [
    "# Train the model\n",
    "history = model.fit( [train_in_grid, train_in_locals, train_in_position], train_out, validation_data=([test_in_grid, test_in_locals, test_in_position], test_out), epochs = 10 )"
   ]
  },
  {
   "cell_type": "code",
   "execution_count": 304,
   "metadata": {},
   "outputs": [
    {
     "name": "stdout",
     "output_type": "stream",
     "text": [
      "224\t789\t192\t14\n",
      "42\t2678\t226\t12\n",
      "17\t27\t7061\t39\n",
      "3\t178\t82\t10255\n"
     ]
    }
   ],
   "source": [
    "# Test out after training\n",
    "generate_confusion_matrix( [test_in_grid, test_in_locals, test_in_position], y_test )"
   ]
  },
  {
   "cell_type": "code",
   "execution_count": 306,
   "metadata": {},
   "outputs": [
    {
     "name": "stdout",
     "output_type": "stream",
     "text": [
      "INFO:tensorflow:Assets written to: ./models/agent1_NN/assets\n"
     ]
    }
   ],
   "source": [
    "model.save('./models/agent1_NN')"
   ]
  }
 ],
 "metadata": {
  "interpreter": {
   "hash": "aee8b7b246df8f9039afb4144a1f6fd8d2ca17a180786b69acc140d282b71a49"
  },
  "kernelspec": {
   "display_name": "Python 3.7.9 64-bit",
   "language": "python",
   "name": "python3"
  },
  "language_info": {
   "codemirror_mode": {
    "name": "ipython",
    "version": 3
   },
   "file_extension": ".py",
   "mimetype": "text/x-python",
   "name": "python",
   "nbconvert_exporter": "python",
   "pygments_lexer": "ipython3",
   "version": "3.7.9"
  },
  "orig_nbformat": 4
 },
 "nbformat": 4,
 "nbformat_minor": 2
}
