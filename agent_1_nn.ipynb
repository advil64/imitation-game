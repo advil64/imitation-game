{
 "cells": [
  {
   "cell_type": "code",
   "execution_count": null,
   "metadata": {},
   "outputs": [],
   "source": [
    "import os\n",
    "import json\n",
    "import numpy as np\n",
    "import tensorflow as tf"
   ]
  },
  {
   "cell_type": "code",
   "execution_count": null,
   "metadata": {},
   "outputs": [],
   "source": [
    "# List that holds all the grids to be used as inputs for training\n",
    "x_train_grid = []\n",
    "# List that holds all the positions to be used as inputs for training\n",
    "x_train_position = []\n",
    "# List that holds all the distances to be used as inputs for training\n",
    "x_train_distance = []\n",
    "# List that holds all the directions to be used as outputs for training\n",
    "y_train = []\n",
    "\n",
    "# List that holds all the grids to be used as inputs for testing\n",
    "x_test_grid = []\n",
    "# List that holds all the positions to be used as inputs for testing\n",
    "x_test_position = []\n",
    "# List that holds all the distances to be used as inputs for testing\n",
    "x_test_distance = []\n",
    "# List that holds all the directions to be used as outputs for testing\n",
    "y_test = []"
   ]
  },
  {
   "cell_type": "code",
   "execution_count": null,
   "metadata": {},
   "outputs": [],
   "source": [
    "# Name of directory for grids\n",
    "directory_name = './data/small_grids/'\n",
    "\n",
    "# iterate through all training grids\n",
    "for file_name in os.listdir(directory_name):\n",
    "    f = open(directory_name + file_name)\n",
    "    data = json.load(f)\n",
    "\n",
    "    # Iterate through all the data in a given grid and append their input and output values\n",
    "    for i in data:\n",
    "        x_train_grid.append(i['gridworld'])\n",
    "        x_train_position.append(i['position'])\n",
    "        x_train_distance.append(i['distance'])\n",
    "        y_train.append(i['direction'])\n",
    "    \n",
    "    # Close file socket\n",
    "    f.close()"
   ]
  },
  {
   "cell_type": "code",
   "execution_count": null,
   "metadata": {},
   "outputs": [],
   "source": [
    "# Name of directory for grids\n",
    "directory_name = './data/small_grids_test/'\n",
    "\n",
    "# iterate through all training grids\n",
    "for file_name in os.listdir(directory_name):\n",
    "    f = open(directory_name + file_name)\n",
    "    data = json.load(f)\n",
    "\n",
    "    # Iterate through all the data in a given grid and append their input and output values\n",
    "    for i in data:\n",
    "        x_test_grid.append(i['gridworld'])\n",
    "        x_test_position.append(i['position'])\n",
    "        x_test_distance.append(i['distance'])\n",
    "        y_test.append(i['direction'])\n",
    "    \n",
    "    # Close file socket\n",
    "    f.close()"
   ]
  },
  {
   "cell_type": "code",
   "execution_count": null,
   "metadata": {},
   "outputs": [],
   "source": [
    "print(x_train_position)\n",
    "print(y_train)"
   ]
  },
  {
   "cell_type": "code",
   "execution_count": 30,
   "metadata": {},
   "outputs": [],
   "source": [
    "# Reshape the data\n",
    "train_in_grid = np.reshape( x_train_grid, (-1, 30, 30) ) / 2\n",
    "train_in_position = np.reshape( x_train_position, (-1, 2, 1) ) / 2\n",
    "train_in_distance = np.reshape( x_train_distance, (-1,1,1) ) / 2\n",
    "train_out = tf.keras.utils.to_categorical( y_train, 4 )\n",
    "\n",
    "test_in_grid = np.reshape( x_test_grid, (-1, 30, 30) ) / 2\n",
    "test_in_position = np.reshape( x_test_position, (-1, 2, 1) ) / 2\n",
    "test_in_distance = np.reshape( x_test_distance, (-1, 1, 1) ) / 2\n",
    "test_out = tf.keras.utils.to_categorical( y_test, 4 )"
   ]
  },
  {
   "cell_type": "code",
   "execution_count": 31,
   "metadata": {},
   "outputs": [],
   "source": [
    "# Flatten the grid input\n",
    "grid_input = tf.keras.layers.Input( shape = (30,30) )\n",
    "flatten_grid = tf.keras.layers.Flatten()( grid_input )"
   ]
  },
  {
   "cell_type": "code",
   "execution_count": 32,
   "metadata": {},
   "outputs": [],
   "source": [
    "# Flatten the position input\n",
    "position_input = tf.keras.layers.Input( shape = (2,1) )\n",
    "flatten_position = tf.keras.layers.Flatten()( position_input )"
   ]
  },
  {
   "cell_type": "code",
   "execution_count": 33,
   "metadata": {},
   "outputs": [],
   "source": [
    "# flatten the direction inputs\n",
    "distance_input = tf.keras.layers.Input( shape = (1,1) )\n",
    "flatten_distance = tf.keras.layers.Flatten()( distance_input )"
   ]
  },
  {
   "cell_type": "code",
   "execution_count": 34,
   "metadata": {},
   "outputs": [],
   "source": [
    "# Concatenate the grid and position into one vector which will be passed to neural network as input\n",
    "final_input = tf.keras.layers.Concatenate()([flatten_grid, flatten_position, flatten_distance])"
   ]
  },
  {
   "cell_type": "code",
   "execution_count": 35,
   "metadata": {},
   "outputs": [],
   "source": [
    "# Create layers for Neural Network\n",
    "dense_1 = tf.keras.layers.Dense( units = 100, activation = tf.nn.relu )( final_input )\n",
    "dense_2 = tf.keras.layers.Dense( units = 50, activation = tf.nn.relu )( dense_1 )\n",
    "dense_3 = tf.keras.layers.Dense( units = 10, activation = tf.nn.relu )( dense_2 )\n",
    "logits = tf.keras.layers.Dense( units = 4, activation = None )( dense_3 )\n",
    "probabilities = tf.keras.layers.Softmax()( logits )"
   ]
  },
  {
   "cell_type": "code",
   "execution_count": 36,
   "metadata": {},
   "outputs": [],
   "source": [
    "# Compile the neural network to use stochastic gradient descent as the optimizer and categorical_crossentropy as loss function\n",
    "model = tf.keras.Model( inputs = [grid_input, position_input, distance_input], outputs = probabilities )\n",
    "model.compile( optimizer = 'sgd', loss = 'categorical_crossentropy', metrics = ['accuracy'] )"
   ]
  },
  {
   "cell_type": "code",
   "execution_count": 37,
   "metadata": {},
   "outputs": [],
   "source": [
    "def generate_confusion_matrix( data, labels ):\n",
    "    mat = [ [ 0 for i in range(4) ] for j in range(4) ]\n",
    "    \n",
    "    predictions = np.argmax( model.predict( data ), axis = 1 )\n",
    "    \n",
    "    for i in range( data[0].shape[0] ):\n",
    "        mat[ labels[i] ][ predictions[i] ] += 1\n",
    "    \n",
    "    for i in range(4):\n",
    "        print( \"\\t\".join( [ str(c) for c in mat[i] ] ) )"
   ]
  },
  {
   "cell_type": "code",
   "execution_count": 38,
   "metadata": {},
   "outputs": [
    {
     "name": "stdout",
     "output_type": "stream",
     "text": [
      "0\t0\t2\t0\n",
      "0\t0\t15\t0\n",
      "0\t0\t38\t0\n",
      "0\t0\t57\t0\n"
     ]
    }
   ],
   "source": [
    "# Test out before training\n",
    "generate_confusion_matrix( [test_in_grid, test_in_position, test_in_distance], y_test )"
   ]
  },
  {
   "cell_type": "code",
   "execution_count": 39,
   "metadata": {},
   "outputs": [
    {
     "name": "stdout",
     "output_type": "stream",
     "text": [
      "Epoch 1/20\n",
      "17/17 [==============================] - 2s 13ms/step - loss: 1.1281 - accuracy: 0.4953\n",
      "Epoch 2/20\n",
      "17/17 [==============================] - 0s 9ms/step - loss: 1.0172 - accuracy: 0.5369\n",
      "Epoch 3/20\n",
      "17/17 [==============================] - 0s 12ms/step - loss: 1.0164 - accuracy: 0.5501\n",
      "Epoch 4/20\n",
      "17/17 [==============================] - 0s 8ms/step - loss: 1.0089 - accuracy: 0.5766\n",
      "Epoch 5/20\n",
      "17/17 [==============================] - 0s 9ms/step - loss: 1.0040 - accuracy: 0.5709\n",
      "Epoch 6/20\n",
      "17/17 [==============================] - 0s 16ms/step - loss: 0.9953 - accuracy: 0.5803\n",
      "Epoch 7/20\n",
      "17/17 [==============================] - 0s 9ms/step - loss: 0.9971 - accuracy: 0.5633\n",
      "Epoch 8/20\n",
      "17/17 [==============================] - 0s 11ms/step - loss: 1.0014 - accuracy: 0.5614\n",
      "Epoch 9/20\n",
      "17/17 [==============================] - 0s 10ms/step - loss: 0.9898 - accuracy: 0.5822\n",
      "Epoch 10/20\n",
      "17/17 [==============================] - 0s 15ms/step - loss: 0.9862 - accuracy: 0.5841\n",
      "Epoch 11/20\n",
      "17/17 [==============================] - 0s 13ms/step - loss: 0.9877 - accuracy: 0.5822\n",
      "Epoch 12/20\n",
      "17/17 [==============================] - 0s 13ms/step - loss: 0.9904 - accuracy: 0.5936\n",
      "Epoch 13/20\n",
      "17/17 [==============================] - 0s 13ms/step - loss: 0.9850 - accuracy: 0.5860\n",
      "Epoch 14/20\n",
      "17/17 [==============================] - 0s 14ms/step - loss: 1.0063 - accuracy: 0.5728\n",
      "Epoch 15/20\n",
      "17/17 [==============================] - 0s 9ms/step - loss: 0.9793 - accuracy: 0.5803\n",
      "Epoch 16/20\n",
      "17/17 [==============================] - 0s 15ms/step - loss: 0.9774 - accuracy: 0.5784\n",
      "Epoch 17/20\n",
      "17/17 [==============================] - 0s 11ms/step - loss: 0.9752 - accuracy: 0.5747\n",
      "Epoch 18/20\n",
      "17/17 [==============================] - 0s 11ms/step - loss: 0.9852 - accuracy: 0.5728\n",
      "Epoch 19/20\n",
      "17/17 [==============================] - 0s 14ms/step - loss: 0.9788 - accuracy: 0.5936\n",
      "Epoch 20/20\n",
      "17/17 [==============================] - 0s 15ms/step - loss: 0.9704 - accuracy: 0.5879\n"
     ]
    }
   ],
   "source": [
    "# Train the model\n",
    "history = model.fit( [train_in_grid, train_in_position, train_in_distance], train_out, epochs = 20 )"
   ]
  },
  {
   "cell_type": "code",
   "execution_count": 40,
   "metadata": {},
   "outputs": [
    {
     "name": "stdout",
     "output_type": "stream",
     "text": [
      "0\t0\t0\t2\n",
      "0\t0\t2\t13\n",
      "0\t0\t7\t31\n",
      "0\t0\t2\t55\n"
     ]
    }
   ],
   "source": [
    "# Test out after training\n",
    "generate_confusion_matrix( [test_in_grid, test_in_position, test_in_distance], y_test )"
   ]
  }
 ],
 "metadata": {
  "interpreter": {
   "hash": "aee8b7b246df8f9039afb4144a1f6fd8d2ca17a180786b69acc140d282b71a49"
  },
  "kernelspec": {
   "display_name": "Python 3.7.9 64-bit",
   "language": "python",
   "name": "python3"
  },
  "language_info": {
   "codemirror_mode": {
    "name": "ipython",
    "version": 3
   },
   "file_extension": ".py",
   "mimetype": "text/x-python",
   "name": "python",
   "nbconvert_exporter": "python",
   "pygments_lexer": "ipython3",
   "version": "3.7.9"
  },
  "orig_nbformat": 4
 },
 "nbformat": 4,
 "nbformat_minor": 2
}
