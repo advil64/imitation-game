{
 "cells": [
  {
   "cell_type": "code",
   "execution_count": 1,
   "metadata": {},
   "outputs": [],
   "source": [
    "import os\n",
    "import json"
   ]
  },
  {
   "cell_type": "code",
   "execution_count": 2,
   "metadata": {},
   "outputs": [],
   "source": [
    "# Name of directory for grids\n",
    "directory_name = './data/small_grids/'\n",
    "# List that holds all the grids to be used as inputs for training\n",
    "x_train_grid = []\n",
    "# List that holds all the positions to be used as inputs for training\n",
    "x_train_position = []\n",
    "# List that holds all the directions to be used as outputs for training\n",
    "y_train = []"
   ]
  },
  {
   "cell_type": "code",
   "execution_count": 3,
   "metadata": {},
   "outputs": [],
   "source": [
    "# iterate through all grids\n",
    "for file_name in os.listdir(directory_name):\n",
    "    f = open(directory_name + file_name)\n",
    "    data = json.load(f)\n",
    "\n",
    "    # Iterate through all the data in a given grid and append their input and output values\n",
    "    for i in data:\n",
    "        x_train_grid.append(i['gridworld'])\n",
    "        x_train_position.append(i['position'])\n",
    "        y_train.append(i['direction'])"
   ]
  },
  {
   "cell_type": "code",
   "execution_count": 6,
   "metadata": {},
   "outputs": [
    {
     "name": "stdout",
     "output_type": "stream",
     "text": [
      "[3, 3, 3, 3, 3, 3, 2, 3, 3, 3, 3, 2, 3, 3, 2, 3, 3, 3, 1, 2, 2, 1, 2, 2, 3, 3, 2, 3, 3, 3, 3, 3, 3, 3, 3, 3, 1, 2, 2, 3, 3, 3, 2, 3, 3, 2, 3, 3, 3, 3, 1, 2, 2, 3, 2, 3, 3, 3, 3, 1, 1, 1, 2, 2, 3, 0, 0, 3, 3, 0, 0, 2, 1, 1, 1, 1, 0, 1, 3, 0, 0, 3, 0, 3, 3, 3, 3, 3, 3, 2, 2, 2, 2, 2, 2, 1, 2, 2, 3, 2, 3, 2, 2, 2, 2, 2, 2, 2, 2, 2, 2, 2, 3, 3, 3, 2, 3, 3, 3, 3, 3, 3, 2, 3, 3, 2, 3, 3, 3, 3, 3, 3, 3, 3, 1, 2, 2, 3, 3, 3, 3, 2, 3, 3, 3, 3, 2, 3, 3, 3, 3, 3, 2, 3, 2, 3, 3, 3, 3, 1, 1, 2, 2, 3, 2, 3, 3, 3, 3, 1, 2, 2, 3, 2, 3, 0, 0, 0, 1, 1, 2, 2, 1, 2, 2, 3, 2, 3, 3, 2, 3, 2, 3, 3, 2, 3, 3, 2, 3, 3, 2, 2, 2, 2, 2, 1, 2, 2, 3, 2, 2, 2]\n"
     ]
    }
   ],
   "source": [
    "print(y_train)"
   ]
  }
 ],
 "metadata": {
  "interpreter": {
   "hash": "aee8b7b246df8f9039afb4144a1f6fd8d2ca17a180786b69acc140d282b71a49"
  },
  "kernelspec": {
   "display_name": "Python 3.7.9 64-bit",
   "language": "python",
   "name": "python3"
  },
  "language_info": {
   "codemirror_mode": {
    "name": "ipython",
    "version": 3
   },
   "file_extension": ".py",
   "mimetype": "text/x-python",
   "name": "python",
   "nbconvert_exporter": "python",
   "pygments_lexer": "ipython3",
   "version": "3.7.9"
  },
  "orig_nbformat": 4
 },
 "nbformat": 4,
 "nbformat_minor": 2
}
