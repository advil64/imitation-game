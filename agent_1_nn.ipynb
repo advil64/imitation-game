{
 "cells": [
  {
   "cell_type": "code",
   "execution_count": 987,
   "metadata": {},
   "outputs": [],
   "source": [
    "import os\n",
    "import json\n",
    "import numpy as np\n",
    "import tensorflow as tf"
   ]
  },
  {
   "cell_type": "code",
   "execution_count": 988,
   "metadata": {},
   "outputs": [],
   "source": [
    "# List that holds all the grids to be used as inputs for training\n",
    "x_train_grid = []\n",
    "# List that holds all the positions to be used as inputs for training\n",
    "x_train_position = []\n",
    "# List that holds all the distances to be used as inputs for training\n",
    "x_train_distance = []\n",
    "# List that holds all the locals to be used as inputs for training\n",
    "x_train_locals = []\n",
    "# List that holds all the directions to be used as outputs for training\n",
    "y_train = []\n",
    "\n",
    "# List that holds all the grids to be used as inputs for testing\n",
    "x_test_grid = []\n",
    "# List that holds all the positions to be used as inputs for testing\n",
    "x_test_position = []\n",
    "# List that holds all the distances to be used as inputs for testing\n",
    "x_test_distance = []\n",
    "# List that holds all the locals to be used as inputs for testing\n",
    "x_test_locals = []\n",
    "# List that holds all the directions to be used as outputs for testing\n",
    "y_test = []"
   ]
  },
  {
   "cell_type": "code",
   "execution_count": 989,
   "metadata": {},
   "outputs": [],
   "source": [
    "# Name of directory for grids\n",
    "directory_name = './data/small_grids/'\n",
    "\n",
    "direct_count = [0 for i in range(4)]\n",
    "\n",
    "# iterate through all training grids\n",
    "for file_name in os.listdir(directory_name):\n",
    "    f = open(directory_name + file_name)\n",
    "    try:\n",
    "        data = json.load(f)\n",
    "    except Exception:\n",
    "        continue\n",
    "\n",
    "    # Iterate through all the data in a given grid and append their input and output values\n",
    "    for i in data:\n",
    "        if len(i['gridworld']) != 100:\n",
    "            print(file_name)\n",
    "            continue\n",
    "        x_train_grid.append(i['gridworld'])\n",
    "        x_train_position.append(i['position'])\n",
    "        x_train_distance.append(i['distance'])\n",
    "        x_train_locals.append(i['local'])\n",
    "        y_train.append(i['direction'])\n",
    "        direct_count[i['direction']] += 1\n",
    "    \n",
    "    # Close file socket\n",
    "    f.close()\n",
    "\n",
    "# direct_count = [0 for i in range(4)]\n",
    "# sample = []\n",
    "\n",
    "# # iterate through all training grids\n",
    "# for file_name in os.listdir(directory_name):\n",
    "#     f = open(directory_name + file_name)\n",
    "#     data = json.load(f)\n",
    "\n",
    "#     # Iterate through all the data in a given grid and append their input and output values\n",
    "#     for i in data:\n",
    "#         if direct_count[i['direction']] < 8000:\n",
    "#             sample.append(i)\n",
    "#             direct_count[i['direction']] += 1\n",
    "    \n",
    "#     # Close file socket\n",
    "#     f.close()\n",
    "\n",
    "# np.random.shuffle(sample)\n",
    "# for i in sample:\n",
    "#     x_train_grid.append(i['gridworld'])\n",
    "#     x_train_position.append(i['position'])\n",
    "#     x_train_distance.append(i['distance'])\n",
    "#     x_train_locals.append(i['local'])\n",
    "#     y_train.append(i['direction'])\n",
    "    "
   ]
  },
  {
   "cell_type": "code",
   "execution_count": 990,
   "metadata": {},
   "outputs": [],
   "source": [
    "#print(np.reshape(x_train_grid[25], (30,30)))\n",
    "#print(x_train_position[25])\n",
    "#print(y_train[25])"
   ]
  },
  {
   "cell_type": "code",
   "execution_count": 991,
   "metadata": {},
   "outputs": [
    {
     "name": "stdout",
     "output_type": "stream",
     "text": [
      "[169, 630, 2158, 2619]\n"
     ]
    }
   ],
   "source": [
    "print(direct_count)"
   ]
  },
  {
   "cell_type": "code",
   "execution_count": 992,
   "metadata": {},
   "outputs": [],
   "source": [
    "# Name of directory for grids\n",
    "directory_name = './data/small_grids_test/'\n",
    "\n",
    "# iterate through all training grids\n",
    "for file_name in os.listdir(directory_name):\n",
    "    f = open(directory_name + file_name)\n",
    "    data = json.load(f)\n",
    "\n",
    "    # Iterate through all the data in a given grid and append their input and output values\n",
    "    for i in data:\n",
    "        x_test_grid.append(i['gridworld'])\n",
    "        x_test_position.append(i['position'])\n",
    "        x_test_distance.append(i['distance'])\n",
    "        x_test_locals.append(i['local'])\n",
    "        y_test.append(i['direction'])\n",
    "    \n",
    "    # Close file socket\n",
    "    f.close()"
   ]
  },
  {
   "cell_type": "code",
   "execution_count": 993,
   "metadata": {},
   "outputs": [],
   "source": [
    "#print(x_train_position)\n",
    "#print(y_train)"
   ]
  },
  {
   "cell_type": "code",
   "execution_count": 994,
   "metadata": {},
   "outputs": [],
   "source": [
    "# Reshape the data\n",
    "train_in_grid = np.reshape( x_train_grid, (-1, 10, 10) ) / 2\n",
    "train_in_position = np.reshape( x_train_position, (-1, 2, 1) )\n",
    "train_in_locals = np.reshape( x_train_locals, (-1, 5, 5) ) * 3\n",
    "train_out = tf.keras.utils.to_categorical( y_train, 4 )\n",
    "\n",
    "test_in_grid = np.reshape( x_test_grid, (-1, 10, 10) ) / 2\n",
    "test_in_position = np.reshape( x_test_position, (-1, 2, 1) )\n",
    "test_in_locals = np.reshape( x_test_locals, (-1, 5, 5) ) * 3\n",
    "test_out = tf.keras.utils.to_categorical( y_test, 4 )"
   ]
  },
  {
   "cell_type": "code",
   "execution_count": 995,
   "metadata": {},
   "outputs": [],
   "source": [
    "# Flatten the grid input\n",
    "grid_input = tf.keras.layers.Input( shape = (10,10) )\n",
    "flatten_grid = tf.keras.layers.Flatten()( grid_input )"
   ]
  },
  {
   "cell_type": "code",
   "execution_count": 996,
   "metadata": {},
   "outputs": [],
   "source": [
    "# Flatten the position input\n",
    "position_input = tf.keras.layers.Input( shape = (2,1) )\n",
    "flatten_position = tf.keras.layers.Flatten()( position_input )"
   ]
  },
  {
   "cell_type": "code",
   "execution_count": 997,
   "metadata": {},
   "outputs": [],
   "source": [
    "# flatten the local inputs\n",
    "local_input = tf.keras.layers.Input( shape = (5,5) )\n",
    "flatten_local = tf.keras.layers.Flatten()( local_input )"
   ]
  },
  {
   "cell_type": "code",
   "execution_count": 998,
   "metadata": {},
   "outputs": [
    {
     "name": "stdout",
     "output_type": "stream",
     "text": [
      "KerasTensor(type_spec=TensorSpec(shape=(None, 127), dtype=tf.float32, name=None), name='concatenate_52/concat:0', description=\"created by layer 'concatenate_52'\")\n"
     ]
    }
   ],
   "source": [
    "# Concatenate the grid and position into one vector which will be passed to neural network as input\n",
    "final_input = tf.keras.layers.Concatenate()([flatten_grid, flatten_local, flatten_position])\n",
    "print(final_input)"
   ]
  },
  {
   "cell_type": "code",
   "execution_count": 999,
   "metadata": {},
   "outputs": [],
   "source": [
    "# Create layers for Neural Network\n",
    "dense_1 = tf.keras.layers.Dense( units = 50, activation = tf.nn.relu )( final_input )\n",
    "dense_2 = tf.keras.layers.Dense( units = 40, activation = tf.nn.relu )( dense_1 )\n",
    "dense_3 = tf.keras.layers.Dense( units = 20, activation = tf.nn.relu )( dense_2 )\n",
    "logits = tf.keras.layers.Dense( units = 4, activation = None )( dense_3 )\n",
    "probabilities = tf.keras.layers.Softmax()( logits )"
   ]
  },
  {
   "cell_type": "code",
   "execution_count": 1000,
   "metadata": {},
   "outputs": [],
   "source": [
    "# Compile the neural network to use stochastic gradient descent as the optimizer and categorical_crossentropy as loss function\n",
    "model = tf.keras.Model( inputs = [grid_input, local_input, position_input], outputs = probabilities )\n",
    "opt = tf.keras.optimizers.SGD()\n",
    "model.compile( optimizer = opt, loss = 'categorical_crossentropy', metrics = ['accuracy'] )"
   ]
  },
  {
   "cell_type": "code",
   "execution_count": 1001,
   "metadata": {},
   "outputs": [],
   "source": [
    "def generate_confusion_matrix( data, labels ):\n",
    "    mat = [ [ 0 for i in range(4) ] for j in range(4) ]\n",
    "    \n",
    "    prob_predict = model.predict( data )\n",
    "    #print(prob_predict)\n",
    "    predictions = np.argmax( prob_predict, axis = 1 )\n",
    "    \n",
    "    for i in range( data[0].shape[0] ):\n",
    "        mat[ labels[i] ][ predictions[i] ] += 1\n",
    "        # if labels[i] == 0:\n",
    "        #     print(prob_predict[i])\n",
    "    \n",
    "    for i in range(4):\n",
    "        print( \"\\t\".join( [ str(c) for c in mat[i] ] ) )"
   ]
  },
  {
   "cell_type": "code",
   "execution_count": 1002,
   "metadata": {},
   "outputs": [
    {
     "name": "stdout",
     "output_type": "stream",
     "text": [
      "7\t0\t9\t0\n",
      "19\t2\t33\t0\n",
      "110\t14\t99\t0\n",
      "131\t28\t102\t0\n"
     ]
    }
   ],
   "source": [
    "# Test out before training\n",
    "generate_confusion_matrix( [test_in_grid, test_in_locals, test_in_position], y_test )"
   ]
  },
  {
   "cell_type": "code",
   "execution_count": 1003,
   "metadata": {},
   "outputs": [
    {
     "name": "stdout",
     "output_type": "stream",
     "text": [
      "Epoch 1/7\n",
      "175/175 [==============================] - 1s 3ms/step - loss: 0.9627 - accuracy: 0.6451 - val_loss: 0.6543 - val_accuracy: 0.7960\n",
      "Epoch 2/7\n",
      "175/175 [==============================] - 1s 4ms/step - loss: 0.5190 - accuracy: 0.8526 - val_loss: 0.3390 - val_accuracy: 0.9097\n",
      "Epoch 3/7\n",
      "175/175 [==============================] - 0s 2ms/step - loss: 0.2932 - accuracy: 0.9279 - val_loss: 0.2462 - val_accuracy: 0.9404\n",
      "Epoch 4/7\n",
      "175/175 [==============================] - 1s 4ms/step - loss: 0.2160 - accuracy: 0.9415 - val_loss: 0.2154 - val_accuracy: 0.9386\n",
      "Epoch 5/7\n",
      "175/175 [==============================] - 1s 3ms/step - loss: 0.1783 - accuracy: 0.9478 - val_loss: 0.2024 - val_accuracy: 0.9440\n",
      "Epoch 6/7\n",
      "175/175 [==============================] - 1s 5ms/step - loss: 0.1556 - accuracy: 0.9532 - val_loss: 0.1787 - val_accuracy: 0.9513\n",
      "Epoch 7/7\n",
      "175/175 [==============================] - 1s 3ms/step - loss: 0.1362 - accuracy: 0.9609 - val_loss: 0.1683 - val_accuracy: 0.9567\n"
     ]
    }
   ],
   "source": [
    "# Train the model\n",
    "history = model.fit( [train_in_grid, train_in_locals, train_in_position], train_out, validation_data=([test_in_grid, test_in_locals, test_in_position], test_out), epochs = 7 )"
   ]
  },
  {
   "cell_type": "code",
   "execution_count": 1004,
   "metadata": {},
   "outputs": [
    {
     "name": "stdout",
     "output_type": "stream",
     "text": [
      "6\t3\t4\t3\n",
      "0\t45\t6\t3\n",
      "0\t1\t221\t1\n",
      "1\t1\t1\t258\n"
     ]
    }
   ],
   "source": [
    "# Test out after training\n",
    "generate_confusion_matrix( [test_in_grid, test_in_locals, test_in_position], y_test )"
   ]
  },
  {
   "cell_type": "code",
   "execution_count": 1005,
   "metadata": {},
   "outputs": [
    {
     "name": "stdout",
     "output_type": "stream",
     "text": [
      "INFO:tensorflow:Assets written to: ./models/agent1_NN/assets\n"
     ]
    }
   ],
   "source": [
    "model.save('./models/agent1_NN')"
   ]
  }
 ],
 "metadata": {
  "interpreter": {
   "hash": "aee8b7b246df8f9039afb4144a1f6fd8d2ca17a180786b69acc140d282b71a49"
  },
  "kernelspec": {
   "display_name": "Python 3.7.9 64-bit",
   "language": "python",
   "name": "python3"
  },
  "language_info": {
   "codemirror_mode": {
    "name": "ipython",
    "version": 3
   },
   "file_extension": ".py",
   "mimetype": "text/x-python",
   "name": "python",
   "nbconvert_exporter": "python",
   "pygments_lexer": "ipython3",
   "version": "3.7.9"
  },
  "orig_nbformat": 4
 },
 "nbformat": 4,
 "nbformat_minor": 2
}
