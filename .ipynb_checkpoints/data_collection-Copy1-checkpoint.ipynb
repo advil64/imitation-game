{
 "cells": [
  {
   "cell_type": "code",
   "execution_count": 1,
   "metadata": {},
   "outputs": [
    {
     "name": "stderr",
     "output_type": "stream",
     "text": [
      "2021-12-14 22:28:39.731751: I tensorflow/stream_executor/platform/default/dso_loader.cc:49] Successfully opened dynamic library libcudart.so.11.0\n"
     ]
    }
   ],
   "source": [
    "import os\n",
    "import subprocess\n",
    "import threading\n",
    "import time\n",
    "import tensorflow as tf\n",
    "import multiprocessing as mp\n",
    "import os"
   ]
  },
  {
   "cell_type": "code",
   "execution_count": 3,
   "metadata": {},
   "outputs": [],
   "source": [
    "def pri():\n",
    "   print(os.getpid())\n",
    "   command = 'python3 src/main_nn.py -d 50 -w results/agent_1 -p 0.3'\n",
    "   for i in range(500):\n",
    "      if subprocess.check_call(command, cwd='/common/users/ac1771/imitation-game', shell=True):\n",
    "         print('FML')\n",
    "         break"
   ]
  },
  {
   "cell_type": "code",
   "execution_count": 5,
   "metadata": {},
   "outputs": [
    {
     "name": "stdout",
     "output_type": "stream",
     "text": [
      "8\n",
      "1382153\n"
     ]
    },
    {
     "name": "stderr",
     "output_type": "stream",
     "text": [
      "2021-12-14 22:31:42.768506: I tensorflow/stream_executor/platform/default/dso_loader.cc:49] Successfully opened dynamic library libcudart.so.11.0\n",
      "2021-12-14 22:31:45.898859: I tensorflow/compiler/jit/xla_cpu_device.cc:41] Not creating XLA devices, tf_xla_enable_xla_devices not set\n",
      "2021-12-14 22:31:45.900110: I tensorflow/stream_executor/platform/default/dso_loader.cc:49] Successfully opened dynamic library libcuda.so.1\n",
      "2021-12-14 22:31:45.940893: I tensorflow/stream_executor/cuda/cuda_gpu_executor.cc:941] successful NUMA node read from SysFS had negative value (-1), but there must be at least one NUMA node, so returning NUMA node zero\n",
      "2021-12-14 22:31:45.941526: I tensorflow/core/common_runtime/gpu/gpu_device.cc:1720] Found device 0 with properties: \n",
      "pciBusID: 0000:02:00.0 name: GeForce GT 630 computeCapability: 3.0\n",
      "coreClock: 0.8755GHz coreCount: 1 deviceMemorySize: 1.95GiB deviceMemoryBandwidth: 26.55GiB/s\n",
      "2021-12-14 22:31:45.941553: I tensorflow/stream_executor/platform/default/dso_loader.cc:49] Successfully opened dynamic library libcudart.so.11.0\n",
      "2021-12-14 22:31:45.944029: I tensorflow/stream_executor/platform/default/dso_loader.cc:49] Successfully opened dynamic library libcublas.so.11\n",
      "2021-12-14 22:31:45.944073: I tensorflow/stream_executor/platform/default/dso_loader.cc:49] Successfully opened dynamic library libcublasLt.so.11\n",
      "2021-12-14 22:31:45.945017: I tensorflow/stream_executor/platform/default/dso_loader.cc:49] Successfully opened dynamic library libcufft.so.10\n",
      "2021-12-14 22:31:45.945282: I tensorflow/stream_executor/platform/default/dso_loader.cc:49] Successfully opened dynamic library libcurand.so.10\n",
      "2021-12-14 22:31:45.947721: I tensorflow/stream_executor/platform/default/dso_loader.cc:49] Successfully opened dynamic library libcusolver.so.10\n",
      "2021-12-14 22:31:45.948387: I tensorflow/stream_executor/platform/default/dso_loader.cc:49] Successfully opened dynamic library libcusparse.so.11\n",
      "2021-12-14 22:31:45.948566: I tensorflow/stream_executor/platform/default/dso_loader.cc:49] Successfully opened dynamic library libcudnn.so.8\n",
      "2021-12-14 22:31:45.948678: I tensorflow/stream_executor/cuda/cuda_gpu_executor.cc:941] successful NUMA node read from SysFS had negative value (-1), but there must be at least one NUMA node, so returning NUMA node zero\n",
      "2021-12-14 22:31:45.949354: I tensorflow/stream_executor/cuda/cuda_gpu_executor.cc:941] successful NUMA node read from SysFS had negative value (-1), but there must be at least one NUMA node, so returning NUMA node zero\n",
      "2021-12-14 22:31:45.949936: I tensorflow/core/common_runtime/gpu/gpu_device.cc:1816] Ignoring visible gpu device (device: 0, name: GeForce GT 630, pci bus id: 0000:02:00.0, compute capability: 3.0) with Cuda compute capability 3.0. The minimum required Cuda capability is 3.5.\n",
      "Traceback (most recent call last):\n",
      "  File \"src/main_nn.py\", line 5, in <module>\n",
      "    from agent_1_nn_sim import Agent_1 as agent_1_nn\n",
      "  File \"/common/users/ac1771/imitation-game/src/agent_1_nn_sim.py\", line 8, in <module>\n",
      "    tf.config.experimental.set_memory_growth(physical_devices[0], True)\n",
      "IndexError: list index out of range\n",
      "Process Process-6:\n",
      "Traceback (most recent call last):\n",
      "  File \"/usr/lib/python3.8/multiprocessing/process.py\", line 315, in _bootstrap\n",
      "    self.run()\n",
      "  File \"/usr/lib/python3.8/multiprocessing/process.py\", line 108, in run\n",
      "    self._target(*self._args, **self._kwargs)\n",
      "  File \"/tmp/ipykernel_1381097/516284570.py\", line 5, in pri\n",
      "    if subprocess.check_call(command, cwd='/common/users/ac1771/imitation-game', shell=True):\n",
      "  File \"/usr/lib/python3.8/subprocess.py\", line 364, in check_call\n",
      "    raise CalledProcessError(retcode, cmd)\n",
      "subprocess.CalledProcessError: Command 'python3 src/main_nn.py -d 50 -w results/agent_1 -p 0.3' returned non-zero exit status 1.\n"
     ]
    }
   ],
   "source": [
    "# Checking number of CPU cores\n",
    "print(mp.cpu_count())\n",
    "\n",
    "processes=[mp.Process(target=pri) for x in range(1)]\n",
    "\n",
    "for p in processes:\n",
    "   p.start()\n",
    "\n",
    "for p in processes:\n",
    "   p.join()"
   ]
  },
  {
   "cell_type": "code",
   "execution_count": null,
   "metadata": {},
   "outputs": [],
   "source": [
    "# Create new threads\n",
    "for i in range(5):\n",
    "  t = myThread(i, \"thread_{}\".format(i), i)\n",
    "  t.start()\n",
    "\n",
    "print(\"Exiting Main Thread\")"
   ]
  },
  {
   "cell_type": "code",
   "execution_count": null,
   "metadata": {},
   "outputs": [],
   "source": [
    "# measure probability calculation efficiency\n",
    "results_df = pd.DataFrame(columns = ['Processed Cells', 'Retries', 'Time', 'Examinations', 'Movements', 'Actions', 'Terrain'])\n",
    "agents = [\"Agent 6\", \"Agent 7\", \"Agent 8\"]\n",
    "\n",
    "for x in range(100):\n",
    "  command = 'python main.py -d 50 -p 0.3'\n",
    "  out = json.loads(str(check_output(command, cwd='/Users/naveenanyogeswaran/Desktop/School/probabilistic-sensing/src', shell=True)).lstrip(\"b'\").rstrip(\"'\").replace(\"\\\\n\", \"\"))\n",
    "\n",
    "  for i,a in enumerate(agents):\n",
    "    results_df = results_df.append([{'Agent': i+6, 'Processed Cells': out[a][\"processed\"], 'Retries': out[a][\"retries\"], 'Time': out[a][\"time\"], 'Examinations': out[a][\"examinations\"], 'Movements': out[a][\"movements\"], 'Actions': out[a][\"examinations\"] + out[a][\"movements\"], 'Terrain': out[a][\"terrain\"]}], ignore_index=True)\n",
    "\n",
    "results_df.head()"
   ]
  },
  {
   "cell_type": "code",
   "execution_count": null,
   "metadata": {},
   "outputs": [],
   "source": [
    "path = 'results/agent_1/{}'.format('thread_test')\n",
    "command = 'python3 src/main_nn.py -d 50 -w {} -p 0.3'.format(path)\n",
    "subprocess.check_call(command, cwd='/common/users/ac1771/imitation-game', shell=True)"
   ]
  },
  {
   "cell_type": "code",
   "execution_count": null,
   "metadata": {},
   "outputs": [],
   "source": [
    "print(mp.cpu_count())"
   ]
  }
 ],
 "metadata": {
  "interpreter": {
   "hash": "31f2aee4e71d21fbe5cf8b01ff0e069b9275f58929596ceb00d14d90e3e16cd6"
  },
  "kernelspec": {
   "display_name": "Python 3 (ipykernel)",
   "language": "python",
   "name": "python3"
  },
  "language_info": {
   "codemirror_mode": {
    "name": "ipython",
    "version": 3
   },
   "file_extension": ".py",
   "mimetype": "text/x-python",
   "name": "python",
   "nbconvert_exporter": "python",
   "pygments_lexer": "ipython3",
   "version": "3.8.10"
  }
 },
 "nbformat": 4,
 "nbformat_minor": 2
}
