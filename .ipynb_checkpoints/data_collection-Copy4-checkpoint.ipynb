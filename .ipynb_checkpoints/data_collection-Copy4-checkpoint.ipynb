{
 "cells": [
  {
   "cell_type": "code",
   "execution_count": 1,
   "metadata": {},
   "outputs": [
    {
     "name": "stderr",
     "output_type": "stream",
     "text": [
      "2021-12-15 00:42:47.761530: I tensorflow/stream_executor/platform/default/dso_loader.cc:49] Successfully opened dynamic library libcudart.so.11.0\n"
     ]
    }
   ],
   "source": [
    "import os\n",
    "import subprocess\n",
    "import threading\n",
    "import time\n",
    "import tensorflow as tf\n",
    "import multiprocessing as mp\n",
    "import os"
   ]
  },
  {
   "cell_type": "code",
   "execution_count": 2,
   "metadata": {},
   "outputs": [],
   "source": [
    "def pri():\n",
    "   print(os.getpid())\n",
    "   command = 'python3 src/main_nn.py -d 50 -w results/agent_1 -p 0.3'\n",
    "   for i in range(500):\n",
    "      if subprocess.check_call(command, cwd='/common/users/ac1771/imitation-game', shell=True):\n",
    "         print('FML')\n",
    "         break"
   ]
  },
  {
   "cell_type": "code",
   "execution_count": null,
   "metadata": {},
   "outputs": [],
   "source": [
    "# Checking number of CPU cores\n",
    "print(mp.cpu_count())\n",
    "\n",
    "processes=[mp.Process(target=pri) for x in range(8)]\n",
    "\n",
    "for p in processes:\n",
    "   p.start()\n",
    "\n",
    "for p in processes:\n",
    "   p.join()"
   ]
  },
  {
   "cell_type": "code",
   "execution_count": null,
   "metadata": {},
   "outputs": [],
   "source": [
    "# Create new threads\n",
    "for i in range(5):\n",
    "  t = myThread(i, \"thread_{}\".format(i), i)\n",
    "  t.start()\n",
    "\n",
    "print(\"Exiting Main Thread\")"
   ]
  },
  {
   "cell_type": "code",
   "execution_count": null,
   "metadata": {},
   "outputs": [],
   "source": [
    "# measure probability calculation efficiency\n",
    "results_df = pd.DataFrame(columns = ['Processed Cells', 'Retries', 'Time', 'Examinations', 'Movements', 'Actions', 'Terrain'])\n",
    "agents = [\"Agent 6\", \"Agent 7\", \"Agent 8\"]\n",
    "\n",
    "for x in range(100):\n",
    "  command = 'python main.py -d 50 -p 0.3'\n",
    "  out = json.loads(str(check_output(command, cwd='/Users/naveenanyogeswaran/Desktop/School/probabilistic-sensing/src', shell=True)).lstrip(\"b'\").rstrip(\"'\").replace(\"\\\\n\", \"\"))\n",
    "\n",
    "  for i,a in enumerate(agents):\n",
    "    results_df = results_df.append([{'Agent': i+6, 'Processed Cells': out[a][\"processed\"], 'Retries': out[a][\"retries\"], 'Time': out[a][\"time\"], 'Examinations': out[a][\"examinations\"], 'Movements': out[a][\"movements\"], 'Actions': out[a][\"examinations\"] + out[a][\"movements\"], 'Terrain': out[a][\"terrain\"]}], ignore_index=True)\n",
    "\n",
    "results_df.head()"
   ]
  },
  {
   "cell_type": "code",
   "execution_count": null,
   "metadata": {},
   "outputs": [],
   "source": [
    "path = 'results/agent_1/{}'.format('thread_test')\n",
    "command = 'python3 src/main_nn.py -d 50 -w {} -p 0.3'.format(path)\n",
    "subprocess.check_call(command, cwd='/common/users/ac1771/imitation-game', shell=True)"
   ]
  },
  {
   "cell_type": "code",
   "execution_count": null,
   "metadata": {},
   "outputs": [],
   "source": [
    "print(mp.cpu_count())"
   ]
  }
 ],
 "metadata": {
  "interpreter": {
   "hash": "31f2aee4e71d21fbe5cf8b01ff0e069b9275f58929596ceb00d14d90e3e16cd6"
  },
  "kernelspec": {
   "display_name": "Python 3.8.10 64-bit",
   "name": "python3"
  },
  "language_info": {
   "codemirror_mode": {
    "name": "ipython",
    "version": 3
   },
   "file_extension": ".py",
   "mimetype": "text/x-python",
   "name": "python",
   "nbconvert_exporter": "python",
   "pygments_lexer": "ipython3",
   "version": "3.8.10"
  }
 },
 "nbformat": 4,
 "nbformat_minor": 2
}
