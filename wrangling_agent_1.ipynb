{
 "cells": [
  {
   "cell_type": "code",
   "execution_count": 1,
   "source": [
    "import pandas as pd\n",
    "import os\n",
    "import json"
   ],
   "outputs": [],
   "metadata": {}
  },
  {
   "cell_type": "code",
   "execution_count": 2,
   "source": [
    "success_df = pd.DataFrame(columns = ['Agent', 'Trajectory', 'Time'])"
   ],
   "outputs": [],
   "metadata": {}
  },
  {
   "cell_type": "code",
   "execution_count": 3,
   "source": [
    "directory = '/common/users/ac1771/imitation-game/results/agent_1/'\n",
    "\n",
    "# iterate through all result json files\n",
    "for file_name in os.listdir(directory):\n",
    "    f = open(directory + file_name)\n",
    "\n",
    "    # account for json coding errs\n",
    "    try:\n",
    "        result = json.load(f)\n",
    "\n",
    "        if result['agent_1_nn']['success'] and result['agent_1_cnn']['success']:\n",
    "            # first load agent 1 results\n",
    "            success_df = success_df.append([{'Agent': '1_norm', 'Trajectory': result['agent_1']['trajectory_length'], 'Time': result['agent_1']['completion_time']}])\n",
    "            \n",
    "            # now neural network results\n",
    "            success_df = success_df.append([{'Agent': '1_nn', 'Trajectory': result['agent_1_nn']['trajectory_length'], 'Time': result['agent_1_nn']['completion_time']}])\n",
    "            success_df = success_df.append([{'Agent': '1_cnn', 'Trajectory': result['agent_1_cnn']['trajectory_length'], 'Time': result['agent_1_cnn']['completion_time']}])\n",
    "    \n",
    "    except ValueError:\n",
    "        print(file_name)\n",
    "    \n",
    "    # Close file socket\n",
    "    f.close()\n",
    "\n",
    "success_df = success_df.reset_index()\n",
    "success_df.head()"
   ],
   "outputs": [
    {
     "output_type": "stream",
     "name": "stdout",
     "text": [
      "1639552032.json\n"
     ]
    },
    {
     "output_type": "execute_result",
     "data": {
      "text/plain": [
       "   index   Agent Trajectory      Time\n",
       "0      0  1_norm        212  0.192385\n",
       "1      0    1_nn        316  8.993918\n",
       "2      0   1_cnn        276  8.561646\n",
       "3      0  1_norm        247  0.245556\n",
       "4      0    1_nn        234  6.507491"
      ],
      "text/html": [
       "<div>\n",
       "<style scoped>\n",
       "    .dataframe tbody tr th:only-of-type {\n",
       "        vertical-align: middle;\n",
       "    }\n",
       "\n",
       "    .dataframe tbody tr th {\n",
       "        vertical-align: top;\n",
       "    }\n",
       "\n",
       "    .dataframe thead th {\n",
       "        text-align: right;\n",
       "    }\n",
       "</style>\n",
       "<table border=\"1\" class=\"dataframe\">\n",
       "  <thead>\n",
       "    <tr style=\"text-align: right;\">\n",
       "      <th></th>\n",
       "      <th>index</th>\n",
       "      <th>Agent</th>\n",
       "      <th>Trajectory</th>\n",
       "      <th>Time</th>\n",
       "    </tr>\n",
       "  </thead>\n",
       "  <tbody>\n",
       "    <tr>\n",
       "      <th>0</th>\n",
       "      <td>0</td>\n",
       "      <td>1_norm</td>\n",
       "      <td>212</td>\n",
       "      <td>0.192385</td>\n",
       "    </tr>\n",
       "    <tr>\n",
       "      <th>1</th>\n",
       "      <td>0</td>\n",
       "      <td>1_nn</td>\n",
       "      <td>316</td>\n",
       "      <td>8.993918</td>\n",
       "    </tr>\n",
       "    <tr>\n",
       "      <th>2</th>\n",
       "      <td>0</td>\n",
       "      <td>1_cnn</td>\n",
       "      <td>276</td>\n",
       "      <td>8.561646</td>\n",
       "    </tr>\n",
       "    <tr>\n",
       "      <th>3</th>\n",
       "      <td>0</td>\n",
       "      <td>1_norm</td>\n",
       "      <td>247</td>\n",
       "      <td>0.245556</td>\n",
       "    </tr>\n",
       "    <tr>\n",
       "      <th>4</th>\n",
       "      <td>0</td>\n",
       "      <td>1_nn</td>\n",
       "      <td>234</td>\n",
       "      <td>6.507491</td>\n",
       "    </tr>\n",
       "  </tbody>\n",
       "</table>\n",
       "</div>"
      ]
     },
     "metadata": {},
     "execution_count": 3
    }
   ],
   "metadata": {}
  },
  {
   "cell_type": "code",
   "execution_count": 4,
   "source": [
    "success_df = success_df.convert_dtypes()\n",
    "grouped_df = success_df.groupby(['Agent'])\n",
    "avg_results_df = grouped_df.mean()\n",
    "avg_results_df.head()"
   ],
   "outputs": [
    {
     "output_type": "execute_result",
     "data": {
      "text/plain": [
       "        index  Trajectory      Time\n",
       "Agent                              \n",
       "1_cnn     0.0  237.255636  7.917228\n",
       "1_nn      0.0  265.188225  8.075922\n",
       "1_norm    0.0  226.516962  0.194865"
      ],
      "text/html": [
       "<div>\n",
       "<style scoped>\n",
       "    .dataframe tbody tr th:only-of-type {\n",
       "        vertical-align: middle;\n",
       "    }\n",
       "\n",
       "    .dataframe tbody tr th {\n",
       "        vertical-align: top;\n",
       "    }\n",
       "\n",
       "    .dataframe thead th {\n",
       "        text-align: right;\n",
       "    }\n",
       "</style>\n",
       "<table border=\"1\" class=\"dataframe\">\n",
       "  <thead>\n",
       "    <tr style=\"text-align: right;\">\n",
       "      <th></th>\n",
       "      <th>index</th>\n",
       "      <th>Trajectory</th>\n",
       "      <th>Time</th>\n",
       "    </tr>\n",
       "    <tr>\n",
       "      <th>Agent</th>\n",
       "      <th></th>\n",
       "      <th></th>\n",
       "      <th></th>\n",
       "    </tr>\n",
       "  </thead>\n",
       "  <tbody>\n",
       "    <tr>\n",
       "      <th>1_cnn</th>\n",
       "      <td>0.0</td>\n",
       "      <td>237.255636</td>\n",
       "      <td>7.917228</td>\n",
       "    </tr>\n",
       "    <tr>\n",
       "      <th>1_nn</th>\n",
       "      <td>0.0</td>\n",
       "      <td>265.188225</td>\n",
       "      <td>8.075922</td>\n",
       "    </tr>\n",
       "    <tr>\n",
       "      <th>1_norm</th>\n",
       "      <td>0.0</td>\n",
       "      <td>226.516962</td>\n",
       "      <td>0.194865</td>\n",
       "    </tr>\n",
       "  </tbody>\n",
       "</table>\n",
       "</div>"
      ]
     },
     "metadata": {},
     "execution_count": 4
    }
   ],
   "metadata": {}
  },
  {
   "cell_type": "code",
   "execution_count": 5,
   "source": [
    "# calculate solvability\n",
    "# iterate through all result json files\n",
    "nn_fails = 0\n",
    "cnn_fails = 0\n",
    "total = 0\n",
    "\n",
    "for file_name in os.listdir(directory):\n",
    "    f = open(directory + file_name)\n",
    "\n",
    "    # account for json coding errs\n",
    "    try:\n",
    "        result = json.load(f)\n",
    "        total += 1\n",
    "\n",
    "        if not result['agent_1_nn']['success']:\n",
    "            nn_fails += 1\n",
    "            \n",
    "        if not result['agent_1_cnn']['success']:\n",
    "            cnn_fails += 1\n",
    "    \n",
    "    except ValueError:\n",
    "        print(file_name)\n",
    "\n",
    "print(nn_fails)\n",
    "print(cnn_fails)\n",
    "print(total)"
   ],
   "outputs": [],
   "metadata": {}
  }
 ],
 "metadata": {
  "interpreter": {
   "hash": "31f2aee4e71d21fbe5cf8b01ff0e069b9275f58929596ceb00d14d90e3e16cd6"
  },
  "kernelspec": {
   "name": "python3",
   "display_name": "Python 3.8.10 64-bit"
  },
  "language_info": {
   "codemirror_mode": {
    "name": "ipython",
    "version": 3
   },
   "file_extension": ".py",
   "mimetype": "text/x-python",
   "name": "python",
   "nbconvert_exporter": "python",
   "pygments_lexer": "ipython3",
   "version": "3.8.10"
  }
 },
 "nbformat": 4,
 "nbformat_minor": 2
}