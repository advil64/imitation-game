{
 "cells": [
  {
   "cell_type": "code",
   "execution_count": 2,
   "metadata": {},
   "outputs": [],
   "source": [
    "import os\n",
    "import subprocess"
   ]
  },
  {
   "cell_type": "code",
   "execution_count": 35,
   "metadata": {},
   "outputs": [],
   "source": [
    "command = 'python src/collect_training_3.py -d 50 -w data/big_3 -p 0.3'\n",
    "for i in range(200):\n",
    "    if subprocess.check_call(command, cwd='/Users/naveenanyogeswaran/Desktop/School/imitation-game', shell=True):\n",
    "        print('FML')\n",
    "        break"
   ]
  },
  {
   "cell_type": "code",
   "execution_count": 31,
   "metadata": {},
   "outputs": [],
   "source": [
    "command = 'python src/collect_training_3.py -d 50 -w data/big_3test -p 0.3'\n",
    "for i in range(20):\n",
    "    subprocess.call(command, cwd='/Users/naveenanyogeswaran/Desktop/School/imitation-game', shell=True)"
   ]
  },
  {
   "cell_type": "code",
   "execution_count": 37,
   "metadata": {},
   "outputs": [],
   "source": [
    "# Name of directory for grids\n",
    "directory_name = './data/big_3/'\n",
    "\n",
    "# iterate through all training grids\n",
    "for file_name in os.listdir(directory_name):\n",
    "    file_path = os.path.join(directory_name, file_name)\n",
    "    try:\n",
    "        if os.path.isfile(file_path) or os.path.islink(file_path):\n",
    "            os.unlink(file_path)\n",
    "    except Exception as e:\n",
    "        print('Failed to delete %s. Reason: %s' % (file_path, e))"
   ]
  }
 ],
 "metadata": {
  "interpreter": {
   "hash": "505ec4bea69dda4ebea9ee8e9ff703e1d865fb9afff589961fde9b645217c834"
  },
  "kernelspec": {
   "display_name": "Python 3.8.9 64-bit ('imitation-game-Eo6NzO_Y': pipenv)",
   "name": "python3"
  },
  "language_info": {
   "codemirror_mode": {
    "name": "ipython",
    "version": 3
   },
   "file_extension": ".py",
   "mimetype": "text/x-python",
   "name": "python",
   "nbconvert_exporter": "python",
   "pygments_lexer": "ipython3",
   "version": "3.7.9"
  },
  "orig_nbformat": 4
 },
 "nbformat": 4,
 "nbformat_minor": 2
}
