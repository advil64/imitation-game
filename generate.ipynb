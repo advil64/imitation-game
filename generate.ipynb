{
 "cells": [
  {
   "cell_type": "code",
   "execution_count": null,
   "metadata": {},
   "outputs": [],
   "source": [
    "import os\n",
    "import subprocess"
   ]
  },
  {
   "cell_type": "code",
   "execution_count": 85,
   "metadata": {},
   "outputs": [],
   "source": [
    "command = 'python src/main.py -d 10 -w data/small_grids -p 0.3'\n",
    "for i in range(2000):\n",
    "    subprocess.call(command, cwd='/Users/naveenanyogeswaran/Desktop/School/imitation-game', shell=True)"
   ]
  },
  {
   "cell_type": "code",
   "execution_count": 86,
   "metadata": {},
   "outputs": [],
   "source": [
    "command = 'python src/main.py -d 10 -w data/small_grids_test -p 0.3'\n",
    "for i in range(200):\n",
    "    subprocess.call(command, cwd='/Users/naveenanyogeswaran/Desktop/School/imitation-game', shell=True)"
   ]
  },
  {
   "cell_type": "code",
   "execution_count": 84,
   "metadata": {},
   "outputs": [],
   "source": [
    "# Name of directory for grids\n",
    "directory_name = './data/small_grids/'\n",
    "\n",
    "# iterate through all training grids\n",
    "for file_name in os.listdir(directory_name):\n",
    "    file_path = os.path.join(directory_name, file_name)\n",
    "    try:\n",
    "        if os.path.isfile(file_path) or os.path.islink(file_path):\n",
    "            os.unlink(file_path)\n",
    "    except Exception as e:\n",
    "        print('Failed to delete %s. Reason: %s' % (file_path, e))"
   ]
  }
 ],
 "metadata": {
  "interpreter": {
   "hash": "dab9904297e73b0996f19a6bee284e664ccc4f83376d44667b25a40dbc62f815"
  },
  "kernelspec": {
   "display_name": "Python 3.7.4 64-bit ('Assignment_4-SZQ1KnID': virtualenv)",
   "language": "python",
   "name": "python3"
  },
  "language_info": {
   "codemirror_mode": {
    "name": "ipython",
    "version": 3
   },
   "file_extension": ".py",
   "mimetype": "text/x-python",
   "name": "python",
   "nbconvert_exporter": "python",
   "pygments_lexer": "ipython3",
   "version": "3.7.9"
  },
  "orig_nbformat": 4
 },
 "nbformat": 4,
 "nbformat_minor": 2
}
