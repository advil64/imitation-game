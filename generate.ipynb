{
 "cells": [
  {
   "cell_type": "code",
   "execution_count": 1,
   "metadata": {},
   "outputs": [],
   "source": [
    "import subprocess"
   ]
  },
  {
   "cell_type": "code",
   "execution_count": 6,
   "metadata": {},
   "outputs": [],
   "source": [
    "command = 'python src/main.py -d 30 -w data/small_grids -p 0.3'\n",
    "for i in range(300):\n",
    "    subprocess.call(command, cwd='/Users/advithchegu/Desktop/Rutgers/Fall 2021/AI/Assignment 4', shell=True)"
   ]
  }
 ],
 "metadata": {
  "interpreter": {
   "hash": "dab9904297e73b0996f19a6bee284e664ccc4f83376d44667b25a40dbc62f815"
  },
  "kernelspec": {
   "display_name": "Python 3.7.4 64-bit ('Assignment_4-SZQ1KnID': virtualenv)",
   "language": "python",
   "name": "python3"
  },
  "language_info": {
   "codemirror_mode": {
    "name": "ipython",
    "version": 3
   },
   "file_extension": ".py",
   "mimetype": "text/x-python",
   "name": "python",
   "nbconvert_exporter": "python",
   "pygments_lexer": "ipython3",
   "version": "3.7.4"
  },
  "orig_nbformat": 4
 },
 "nbformat": 4,
 "nbformat_minor": 2
}
