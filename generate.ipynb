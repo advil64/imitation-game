{
 "cells": [
  {
   "cell_type": "code",
   "execution_count": 1,
   "source": [
    "import os\n",
    "import subprocess"
   ],
   "outputs": [],
   "metadata": {}
  },
  {
   "cell_type": "code",
   "execution_count": 2,
   "source": [
    "command = 'python src/main_nn.py -d 50 -w data/big -p 0.3 >& log.txt'\n",
    "for i in range(200):\n",
    "    if subprocess.check_call(command, cwd='/Users/advithchegu/Desktop/imitation-game', shell=True):\n",
    "        print('FML')\n",
    "        break"
   ],
   "outputs": [],
   "metadata": {}
  },
  {
   "cell_type": "code",
   "execution_count": 104,
   "source": [
    "command = 'python src/main.py -d 50 -w data/bigtest -p 0.3'\n",
    "for i in range(20):\n",
    "    subprocess.call(command, cwd='/Users/naveenanyogeswaran/Desktop/School/imitation-game', shell=True)"
   ],
   "outputs": [],
   "metadata": {}
  },
  {
   "cell_type": "code",
   "execution_count": 102,
   "source": [
    "# Name of directory for grids\n",
    "directory_name = './data/big/'\n",
    "\n",
    "# iterate through all training grids\n",
    "for file_name in os.listdir(directory_name):\n",
    "    file_path = os.path.join(directory_name, file_name)\n",
    "    try:\n",
    "        if os.path.isfile(file_path) or os.path.islink(file_path):\n",
    "            os.unlink(file_path)\n",
    "    except Exception as e:\n",
    "        print('Failed to delete %s. Reason: %s' % (file_path, e))"
   ],
   "outputs": [],
   "metadata": {}
  }
 ],
 "metadata": {
  "interpreter": {
   "hash": "505ec4bea69dda4ebea9ee8e9ff703e1d865fb9afff589961fde9b645217c834"
  },
  "kernelspec": {
   "name": "python3",
   "display_name": "Python 3.8.9 64-bit ('imitation-game-Eo6NzO_Y': pipenv)"
  },
  "language_info": {
   "codemirror_mode": {
    "name": "ipython",
    "version": 3
   },
   "file_extension": ".py",
   "mimetype": "text/x-python",
   "name": "python",
   "nbconvert_exporter": "python",
   "pygments_lexer": "ipython3",
   "version": "3.8.9"
  },
  "orig_nbformat": 4
 },
 "nbformat": 4,
 "nbformat_minor": 2
}