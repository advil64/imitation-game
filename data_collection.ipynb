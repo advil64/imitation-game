{
 "cells": [
  {
   "cell_type": "code",
   "execution_count": 1,
   "source": [
    "import pandas as pd"
   ],
   "outputs": [],
   "metadata": {}
  },
  {
   "cell_type": "code",
   "execution_count": null,
   "source": [
    "# measure probability calculation efficiency\n",
    "results_df = pd.DataFrame(columns = ['Processed Cells', 'Retries', 'Time', 'Examinations', 'Movements', 'Actions', 'Terrain'])\n",
    "agents = [\"Agent 6\", \"Agent 7\", \"Agent 8\"]\n",
    "\n",
    "for x in range(100):\n",
    "  command = 'python main.py -d 50 -p 0.3'\n",
    "  out = json.loads(str(check_output(command, cwd='/Users/naveenanyogeswaran/Desktop/School/probabilistic-sensing/src', shell=True)).lstrip(\"b'\").rstrip(\"'\").replace(\"\\\\n\", \"\"))\n",
    "\n",
    "  for i,a in enumerate(agents):\n",
    "    results_df = results_df.append([{'Agent': i+6, 'Processed Cells': out[a][\"processed\"], 'Retries': out[a][\"retries\"], 'Time': out[a][\"time\"], 'Examinations': out[a][\"examinations\"], 'Movements': out[a][\"movements\"], 'Actions': out[a][\"examinations\"] + out[a][\"movements\"], 'Terrain': out[a][\"terrain\"]}], ignore_index=True)\n",
    "\n",
    "results_df.head()"
   ],
   "outputs": [],
   "metadata": {}
  }
 ],
 "metadata": {
  "orig_nbformat": 4,
  "language_info": {
   "name": "python",
   "version": "3.8.9",
   "mimetype": "text/x-python",
   "codemirror_mode": {
    "name": "ipython",
    "version": 3
   },
   "pygments_lexer": "ipython3",
   "nbconvert_exporter": "python",
   "file_extension": ".py"
  },
  "kernelspec": {
   "name": "python3",
   "display_name": "Python 3.8.9 64-bit ('imitation-game-Eo6NzO_Y': pipenv)"
  },
  "interpreter": {
   "hash": "505ec4bea69dda4ebea9ee8e9ff703e1d865fb9afff589961fde9b645217c834"
  }
 },
 "nbformat": 4,
 "nbformat_minor": 2
}