{
 "cells": [
  {
   "cell_type": "code",
   "execution_count": 4,
   "source": [
    "import os\n",
    "import subprocess\n",
    "import threading\n",
    "import time\n",
    "import tensorflow as tf\n",
    "import multiprocessing as mp\n",
    "import os"
   ],
   "outputs": [],
   "metadata": {}
  },
  {
   "cell_type": "code",
   "execution_count": 5,
   "source": [
    "def pri():\n",
    "   print(os.getpid())"
   ],
   "outputs": [],
   "metadata": {}
  },
  {
   "cell_type": "code",
   "execution_count": 11,
   "source": [
    "# Checking number of CPU cores\n",
    "print(mp.cpu_count())\n",
    "\n",
    "processes=[mp.Process(target=pri) for x in range(10)]\n",
    "\n",
    "for p in processes:\n",
    "   p.start()\n",
    "\n",
    "for p in processes:\n",
    "   p.join()"
   ],
   "outputs": [
    {
     "output_type": "stream",
     "name": "stdout",
     "text": [
      "12\n",
      "1234819\n",
      "1234816\n",
      "1234822\n"
     ]
    }
   ],
   "metadata": {}
  },
  {
   "cell_type": "code",
   "execution_count": null,
   "source": [
    "# Create new threads\n",
    "for i in range(5):\n",
    "  t = myThread(i, \"thread_{}\".format(i), i)\n",
    "  t.start()\n",
    "\n",
    "print(\"Exiting Main Thread\")"
   ],
   "outputs": [],
   "metadata": {}
  },
  {
   "cell_type": "code",
   "execution_count": null,
   "source": [
    "# measure probability calculation efficiency\n",
    "results_df = pd.DataFrame(columns = ['Processed Cells', 'Retries', 'Time', 'Examinations', 'Movements', 'Actions', 'Terrain'])\n",
    "agents = [\"Agent 6\", \"Agent 7\", \"Agent 8\"]\n",
    "\n",
    "for x in range(100):\n",
    "  command = 'python main.py -d 50 -p 0.3'\n",
    "  out = json.loads(str(check_output(command, cwd='/Users/naveenanyogeswaran/Desktop/School/probabilistic-sensing/src', shell=True)).lstrip(\"b'\").rstrip(\"'\").replace(\"\\\\n\", \"\"))\n",
    "\n",
    "  for i,a in enumerate(agents):\n",
    "    results_df = results_df.append([{'Agent': i+6, 'Processed Cells': out[a][\"processed\"], 'Retries': out[a][\"retries\"], 'Time': out[a][\"time\"], 'Examinations': out[a][\"examinations\"], 'Movements': out[a][\"movements\"], 'Actions': out[a][\"examinations\"] + out[a][\"movements\"], 'Terrain': out[a][\"terrain\"]}], ignore_index=True)\n",
    "\n",
    "results_df.head()"
   ],
   "outputs": [],
   "metadata": {}
  },
  {
   "cell_type": "code",
   "execution_count": null,
   "source": [
    "path = 'results/agent_1/{}'.format('thread_test')\n",
    "command = 'python3 src/main_nn.py -d 50 -w {} -p 0.3'.format(path)\n",
    "subprocess.check_call(command, cwd='/common/users/ac1771/imitation-game', shell=True)"
   ],
   "outputs": [],
   "metadata": {}
  },
  {
   "cell_type": "code",
   "execution_count": 3,
   "source": [
    "print(mp.cpu_count())"
   ],
   "outputs": [
    {
     "output_type": "stream",
     "name": "stdout",
     "text": [
      "12\n"
     ]
    }
   ],
   "metadata": {}
  }
 ],
 "metadata": {
  "orig_nbformat": 4,
  "language_info": {
   "name": "python",
   "version": "3.8.10",
   "mimetype": "text/x-python",
   "codemirror_mode": {
    "name": "ipython",
    "version": 3
   },
   "pygments_lexer": "ipython3",
   "nbconvert_exporter": "python",
   "file_extension": ".py"
  },
  "kernelspec": {
   "name": "python3",
   "display_name": "Python 3.8.10 64-bit"
  },
  "interpreter": {
   "hash": "31f2aee4e71d21fbe5cf8b01ff0e069b9275f58929596ceb00d14d90e3e16cd6"
  }
 },
 "nbformat": 4,
 "nbformat_minor": 2
}